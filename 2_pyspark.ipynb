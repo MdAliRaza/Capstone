{
  "nbformat": 4,
  "nbformat_minor": 0,
  "metadata": {
    "colab": {
      "name": "2_pyspark.ipynb",
      "provenance": []
    },
    "kernelspec": {
      "name": "python3",
      "display_name": "Python 3"
    },
    "language_info": {
      "name": "python"
    }
  },
  "cells": [
    {
      "cell_type": "markdown",
      "source": [
        "## **Intorduction**\n",
        "\n",
        "**Context**\n",
        "\n",
        "This is a historical dataset on the Modern Olympic Games, including all the Games from Sydney 2000 to London 2012. I got this data from our instructor. It contain all athletes wo have won any medal gold, silver or bronze, age of those athletes, they belong to which country, in what year they got their medals with dates and in which respective sport they have won.\n",
        "\n",
        "\n",
        "**Content**\n",
        "\n",
        "\n",
        "|**Variable**|**Description**|**Type**|\n",
        "|-|-|-|\n",
        "|**name**|name of athlete|categorical|\n",
        "|**age**|age of athlete|numerical|\n",
        "|**country**|country from athlete is|categorical|\n",
        "|**year**|got medal in year|categorical|\n",
        "|**Date_Given**|got medal in date|categorical|\n",
        "|**sports**|sport in which medal got |categorical|\n",
        "|**gold_medal**|number of gold medal won|numerical|\n",
        "|**silver_medal**|number of silver medal won|numerical|\n",
        "|**brone_medal**|number of bronze medal won|numerical|\n",
        "|**total_medal**|total medal won|numerical|\n",
        "\n",
        "\n",
        "Count of variables we have:\n",
        "\n",
        "|**Type**|**Count**|\n",
        "|-|-|\n",
        "|categorical|5|\n",
        "|numerical|5|\n"
      ],
      "metadata": {
        "id": "XIssvj2VoZWn"
      }
    },
    {
      "cell_type": "code",
      "execution_count": 1,
      "metadata": {
        "colab": {
          "base_uri": "https://localhost:8080/"
        },
        "id": "EPo1RBvhZSi1",
        "outputId": "9b9284a7-b548-4a94-8b3e-0b5bfec67947"
      },
      "outputs": [
        {
          "output_type": "stream",
          "name": "stdout",
          "text": [
            "Looking in indexes: https://pypi.org/simple, https://us-python.pkg.dev/colab-wheels/public/simple/\n",
            "Collecting pyspark\n",
            "  Downloading pyspark-3.2.1.tar.gz (281.4 MB)\n",
            "\u001b[K     |████████████████████████████████| 281.4 MB 34 kB/s \n",
            "\u001b[?25hCollecting py4j==0.10.9.3\n",
            "  Downloading py4j-0.10.9.3-py2.py3-none-any.whl (198 kB)\n",
            "\u001b[K     |████████████████████████████████| 198 kB 50.0 MB/s \n",
            "\u001b[?25hBuilding wheels for collected packages: pyspark\n",
            "  Building wheel for pyspark (setup.py) ... \u001b[?25l\u001b[?25hdone\n",
            "  Created wheel for pyspark: filename=pyspark-3.2.1-py2.py3-none-any.whl size=281853642 sha256=2c0d7c27664db9b02af6bc712dd33f2e1319a6bf82dfcdadbd928a188f9f3638\n",
            "  Stored in directory: /root/.cache/pip/wheels/9f/f5/07/7cd8017084dce4e93e84e92efd1e1d5334db05f2e83bcef74f\n",
            "Successfully built pyspark\n",
            "Installing collected packages: py4j, pyspark\n",
            "Successfully installed py4j-0.10.9.3 pyspark-3.2.1\n"
          ]
        }
      ],
      "source": [
        "pip install pyspark # importing the module"
      ]
    },
    {
      "cell_type": "code",
      "source": [
        "from pyspark import SparkConf, SparkContext\n",
        "from pyspark.sql import SparkSession\n",
        "\n",
        "conf = SparkConf().setAppName('MdAliRaza') # configuring SparkConf and setting appname\n",
        "sc = SparkContext(conf=conf) # creating spark context object\n",
        "spark = SparkSession.builder.appName('Assignment').getOrCreate() # creating spark object"
      ],
      "metadata": {
        "id": "6aEU_N4eayw5"
      },
      "execution_count": 2,
      "outputs": []
    },
    {
      "cell_type": "markdown",
      "source": [
        "## **Write PySpark code to read olympix_data.csv file**"
      ],
      "metadata": {
        "id": "n60gYKRccaEA"
      }
    },
    {
      "cell_type": "code",
      "source": [
        "file = r'/content/olympix_data.csv' # assinging file location to a variable\n",
        "df = spark.read.format(\"csv\").option(\"header\", \"true\").option(\"inferSchema\",\"true\").load(file) # reading file and making dataframe"
      ],
      "metadata": {
        "id": "iolAoA2la0Ga"
      },
      "execution_count": 3,
      "outputs": []
    },
    {
      "cell_type": "code",
      "source": [
        "df.show(5) # viewing our dataframe"
      ],
      "metadata": {
        "colab": {
          "base_uri": "https://localhost:8080/"
        },
        "id": "g8BmKoMpa_n6",
        "outputId": "907c1786-816f-4162-baee-dd29bb896b87"
      },
      "execution_count": 4,
      "outputs": [
        {
          "output_type": "stream",
          "name": "stdout",
          "text": [
            "+----------------+----+-------------+----+----------+----------+----------+------------+-----------+-----------+\n",
            "|            name| age|      country|year|Date_Given|    sports|gold_medal|silver_medal|brone_medal|total_medal|\n",
            "+----------------+----+-------------+----+----------+----------+----------+------------+-----------+-----------+\n",
            "|  Michael Phelps|23.0|United States|2008|2008-08-24|  Swimming|         8|           0|          0|          8|\n",
            "|  Michael Phelps|19.0|United States|2004|2004-08-29|  Swimming|         6|           0|          2|          8|\n",
            "|  Michael Phelps|27.0|United States|2012|2012-08-12|  Swimming|         4|           2|          0|          6|\n",
            "|Natalie Coughlin|25.0|United States|2008|2008-08-24|  Swimming|         1|           2|          3|          6|\n",
            "|   Aleksey Nemov|24.0|       Russia|2000|2000-10-01|Gymnastics|         2|           1|          3|          6|\n",
            "+----------------+----+-------------+----+----------+----------+----------+------------+-----------+-----------+\n",
            "only showing top 5 rows\n",
            "\n"
          ]
        }
      ]
    },
    {
      "cell_type": "markdown",
      "source": [
        "## **Write PySpark code to print the Olympic Sports/games in the dataset.**"
      ],
      "metadata": {
        "id": "n3MaJJMycmcb"
      }
    },
    {
      "cell_type": "code",
      "source": [
        "sports = df.select('sports').distinct() # selecting all sports from the dataset\n",
        "sports.show(100,truncate=False) # showing all sports category"
      ],
      "metadata": {
        "colab": {
          "base_uri": "https://localhost:8080/"
        },
        "id": "K4C0h-2Md0Hz",
        "outputId": "3a9b42d4-3ee6-412e-813e-dccf18c9a965"
      },
      "execution_count": 5,
      "outputs": [
        {
          "output_type": "stream",
          "name": "stdout",
          "text": [
            "+-------------------------+\n",
            "|sports                   |\n",
            "+-------------------------+\n",
            "|Gymnastics               |\n",
            "|Tennis                   |\n",
            "|Boxing                   |\n",
            "|Short-Track Speed Skating|\n",
            "|Ice Hockey               |\n",
            "|Rowing                   |\n",
            "|Judo                     |\n",
            "|Softball                 |\n",
            "|Sailing                  |\n",
            "|Swimming                 |\n",
            "|Alpine Skiing            |\n",
            "|Basketball               |\n",
            "|Handball                 |\n",
            "|Rhythmic Gymnastics      |\n",
            "|Biathlon                 |\n",
            "|Triathlon                |\n",
            "|Badminton                |\n",
            "|Athletics                |\n",
            "|Figure Skating           |\n",
            "|Beach Volleyball         |\n",
            "|Equestrian               |\n",
            "|Shooting                 |\n",
            "|Diving                   |\n",
            "|Skeleton                 |\n",
            "|Ski Jumping              |\n",
            "|Nordic Combined          |\n",
            "|Wrestling                |\n",
            "|Speed Skating            |\n",
            "|Table Tennis             |\n",
            "|Taekwondo                |\n",
            "|Canoeing                 |\n",
            "|Weightlifting            |\n",
            "|Waterpolo                |\n",
            "|Baseball                 |\n",
            "|Modern Pentathlon        |\n",
            "|Snowboarding             |\n",
            "|Bobsleigh                |\n",
            "|Cycling                  |\n",
            "|Cross Country Skiing     |\n",
            "|Volleyball               |\n",
            "|Archery                  |\n",
            "|Synchronized Swimming    |\n",
            "|Curling                  |\n",
            "|Fencing                  |\n",
            "|Hockey                   |\n",
            "|Freestyle Skiing         |\n",
            "|Football                 |\n",
            "|Luge                     |\n",
            "|Trampoline               |\n",
            "+-------------------------+\n",
            "\n"
          ]
        }
      ]
    },
    {
      "cell_type": "markdown",
      "source": [
        "## **Write PySpark code to plot the total number of medals in  each Olympic Sport/game**"
      ],
      "metadata": {
        "id": "qL4AoHd2cs-G"
      }
    },
    {
      "cell_type": "code",
      "source": [
        "sports_total = df[['sports','total_medal']] # creating a dataframe with variable sports and total medal\n",
        "sports_total = sports_total.groupby('sports').sum('total_medal') # grouping sports on sum of total medals\n",
        "sports_total.show(truncate=False) # showing all sports with total medals"
      ],
      "metadata": {
        "colab": {
          "base_uri": "https://localhost:8080/"
        },
        "id": "JYjx9BGXfIrX",
        "outputId": "2eec03d9-e3c9-491e-99e3-5ffd8bdd6cc6"
      },
      "execution_count": 6,
      "outputs": [
        {
          "output_type": "stream",
          "name": "stdout",
          "text": [
            "+-------------------------+----------------+\n",
            "|sports                   |sum(total_medal)|\n",
            "+-------------------------+----------------+\n",
            "|Gymnastics               |282             |\n",
            "|Tennis                   |78              |\n",
            "|Boxing                   |188             |\n",
            "|Short-Track Speed Skating|138             |\n",
            "|Ice Hockey               |384             |\n",
            "|Rowing                   |576             |\n",
            "|Judo                     |224             |\n",
            "|Softball                 |134             |\n",
            "|Sailing                  |210             |\n",
            "|Swimming                 |765             |\n",
            "|Alpine Skiing            |90              |\n",
            "|Basketball               |287             |\n",
            "|Handball                 |351             |\n",
            "|Rhythmic Gymnastics      |84              |\n",
            "|Biathlon                 |138             |\n",
            "|Triathlon                |24              |\n",
            "|Badminton                |96              |\n",
            "|Athletics                |753             |\n",
            "|Figure Skating           |54              |\n",
            "|Beach Volleyball         |48              |\n",
            "+-------------------------+----------------+\n",
            "only showing top 20 rows\n",
            "\n"
          ]
        }
      ]
    },
    {
      "cell_type": "markdown",
      "source": [
        "## **Sort the result based on the total number of medals.**"
      ],
      "metadata": {
        "id": "8kjHVJSkc65G"
      }
    },
    {
      "cell_type": "code",
      "source": [
        "sports_total.sort('sum(total_medal)', ascending = False).show(truncate=False) # sorting in descending order of total medals by sports"
      ],
      "metadata": {
        "colab": {
          "base_uri": "https://localhost:8080/"
        },
        "id": "Kn08nst6gIBj",
        "outputId": "1883be82-7a72-40e1-da80-00c38f3ab3c8"
      },
      "execution_count": 7,
      "outputs": [
        {
          "output_type": "stream",
          "name": "stdout",
          "text": [
            "+----------+----------------+\n",
            "|sports    |sum(total_medal)|\n",
            "+----------+----------------+\n",
            "|Swimming  |765             |\n",
            "|Athletics |753             |\n",
            "|Rowing    |576             |\n",
            "|Football  |407             |\n",
            "|Hockey    |386             |\n",
            "|Ice Hockey|384             |\n",
            "|Handball  |351             |\n",
            "|Canoeing  |333             |\n",
            "|Waterpolo |306             |\n",
            "|Cycling   |306             |\n",
            "|Basketball|287             |\n",
            "|Gymnastics|282             |\n",
            "|Volleyball|278             |\n",
            "|Fencing   |256             |\n",
            "|Wrestling |245             |\n",
            "|Judo      |224             |\n",
            "|Baseball  |216             |\n",
            "|Sailing   |210             |\n",
            "|Shooting  |192             |\n",
            "|Boxing    |188             |\n",
            "+----------+----------------+\n",
            "only showing top 20 rows\n",
            "\n"
          ]
        }
      ]
    },
    {
      "cell_type": "markdown",
      "source": [
        "## **Find the total number of medals won by each country in swimming.**"
      ],
      "metadata": {
        "id": "eNKIw525c6sX"
      }
    },
    {
      "cell_type": "code",
      "source": [
        "swimming = df.filter(df['sports']== 'Swimming') # filtering dataset to contain only swimming observations\n",
        "swimming = swimming.groupby('country').sum('total_medal') # grouping country on sum of total medals\n",
        "swimming.show(truncate = False) # showing all country with total medals in swimming"
      ],
      "metadata": {
        "colab": {
          "base_uri": "https://localhost:8080/"
        },
        "id": "y_aTgAvthKu5",
        "outputId": "0aecd2f4-bea5-4b1b-bb48-407097ae60e8"
      },
      "execution_count": 8,
      "outputs": [
        {
          "output_type": "stream",
          "name": "stdout",
          "text": [
            "+-------------+----------------+\n",
            "|country      |sum(total_medal)|\n",
            "+-------------+----------------+\n",
            "|Russia       |20              |\n",
            "|Sweden       |9               |\n",
            "|Germany      |32              |\n",
            "|France       |39              |\n",
            "|Slovakia     |2               |\n",
            "|Argentina    |1               |\n",
            "|Great Britain|11              |\n",
            "|United States|267             |\n",
            "|China        |35              |\n",
            "|Belarus      |2               |\n",
            "|Croatia      |1               |\n",
            "|Italy        |16              |\n",
            "|Lithuania    |1               |\n",
            "|Norway       |2               |\n",
            "|Spain        |3               |\n",
            "|Denmark      |1               |\n",
            "|Ukraine      |7               |\n",
            "|South Korea  |4               |\n",
            "|Zimbabwe     |7               |\n",
            "|Tunisia      |3               |\n",
            "+-------------+----------------+\n",
            "only showing top 20 rows\n",
            "\n"
          ]
        }
      ]
    },
    {
      "cell_type": "markdown",
      "source": [
        "## **Find the total number of medals won by each country in Skeleton.**"
      ],
      "metadata": {
        "id": "iltqfv0Zc6fB"
      }
    },
    {
      "cell_type": "code",
      "source": [
        "skeleton = df.filter(df['sports']== 'Skeleton') # filtering dataset to contain only skeleton sports\n",
        "skeleton = skeleton.groupby('country').sum('total_medal') # grouping country on sum of total medals\n",
        "skeleton.show(truncate = False) # showing all country with total medals in skeleton"
      ],
      "metadata": {
        "colab": {
          "base_uri": "https://localhost:8080/"
        },
        "id": "ZHKk_UXeid74",
        "outputId": "1d20a4fb-9bf4-43a9-a83a-56d6bfd5f186"
      },
      "execution_count": 9,
      "outputs": [
        {
          "metadata": {
            "tags": null
          },
          "name": "stdout",
          "output_type": "stream",
          "text": [
            "+-------------+----------------+\n",
            "|country      |sum(total_medal)|\n",
            "+-------------+----------------+\n",
            "|Russia       |1               |\n",
            "|Germany      |2               |\n",
            "|Great Britain|3               |\n",
            "|United States|3               |\n",
            "|Switzerland  |3               |\n",
            "|Latvia       |1               |\n",
            "|Canada       |4               |\n",
            "|Austria      |1               |\n",
            "+-------------+----------------+\n",
            "\n"
          ]
        }
      ]
    },
    {
      "cell_type": "markdown",
      "source": [
        "## **Find the number of medals that the US won yearly.**"
      ],
      "metadata": {
        "id": "mP-f-DWac6QM"
      }
    },
    {
      "cell_type": "code",
      "source": [
        "united_states = df.filter(df['country']== 'United States') # filtering dataset to contain only United States country\n",
        "united_states = united_states.groupby('year').sum('total_medal') # grouping year on sum of total medals\n",
        "united_states.sort('year').show() # showimg total medals by year, won by US"
      ],
      "metadata": {
        "colab": {
          "base_uri": "https://localhost:8080/"
        },
        "id": "04Nw5fAXjDSv",
        "outputId": "1316b3af-c79f-4552-b9c9-ba0914105673"
      },
      "execution_count": 10,
      "outputs": [
        {
          "output_type": "stream",
          "name": "stdout",
          "text": [
            "+----+----------------+\n",
            "|year|sum(total_medal)|\n",
            "+----+----------------+\n",
            "|2000|             243|\n",
            "|2002|              84|\n",
            "|2004|             265|\n",
            "|2006|              52|\n",
            "|2008|             317|\n",
            "|2010|              97|\n",
            "|2012|             254|\n",
            "+----+----------------+\n",
            "\n"
          ]
        }
      ]
    },
    {
      "cell_type": "markdown",
      "source": [
        "## **Find the total number of medals won by each country.**"
      ],
      "metadata": {
        "id": "lWh9qHMzc47j"
      }
    },
    {
      "cell_type": "code",
      "source": [
        "country = df.groupby('country').sum('total_medal') # grouping country on sum of total medal\n",
        "country.sort('sum(total_medal)',ascending=False).show(truncate = False) # showing country with total medals"
      ],
      "metadata": {
        "colab": {
          "base_uri": "https://localhost:8080/"
        },
        "id": "bAg4ygaEj-Ba",
        "outputId": "8b26d305-2f11-4d3f-ecfa-57acef1ef55b"
      },
      "execution_count": 11,
      "outputs": [
        {
          "output_type": "stream",
          "name": "stdout",
          "text": [
            "+-------------+----------------+\n",
            "|country      |sum(total_medal)|\n",
            "+-------------+----------------+\n",
            "|United States|1312            |\n",
            "|Russia       |768             |\n",
            "|Germany      |629             |\n",
            "|Australia    |609             |\n",
            "|China        |530             |\n",
            "|Canada       |370             |\n",
            "|Italy        |331             |\n",
            "|Great Britain|322             |\n",
            "|France       |318             |\n",
            "|Netherlands  |318             |\n",
            "|South Korea  |308             |\n",
            "|Japan        |282             |\n",
            "|Brazil       |218             |\n",
            "|Spain        |205             |\n",
            "|Norway       |192             |\n",
            "|Cuba         |188             |\n",
            "|Sweden       |181             |\n",
            "|Hungary      |145             |\n",
            "|Ukraine      |143             |\n",
            "|Argentina    |139             |\n",
            "+-------------+----------------+\n",
            "only showing top 20 rows\n",
            "\n"
          ]
        }
      ]
    },
    {
      "cell_type": "markdown",
      "source": [
        "## **Who was the oldest athlete in the olympics?**"
      ],
      "metadata": {
        "id": "r0SlVj99c5lG"
      }
    },
    {
      "cell_type": "code",
      "source": [
        "oldest = df.sort('age',ascending=False) # sorting age in descending order\n",
        "oldest_athlete = oldest.limit(1) # taking top 1 observation\n",
        "oldest_athlete.show() # showing details of oldest athlete"
      ],
      "metadata": {
        "colab": {
          "base_uri": "https://localhost:8080/"
        },
        "id": "upxImuKvkQRR",
        "outputId": "c8f8c323-288f-4f33-def5-6c32bebd38ed"
      },
      "execution_count": null,
      "outputs": [
        {
          "output_type": "stream",
          "name": "stdout",
          "text": [
            "+----------+----+-------+----+----------+----------+----------+------------+-----------+-----------+\n",
            "|      name| age|country|year|Date_Given|    sports|gold_medal|silver_medal|brone_medal|total_medal|\n",
            "+----------+----+-------+----+----------+----------+----------+------------+-----------+-----------+\n",
            "|Ian Millar|61.0| Canada|2008|2008-08-24|Equestrian|         0|           1|          0|          1|\n",
            "+----------+----+-------+----+----------+----------+----------+------------+-----------+-----------+\n",
            "\n"
          ]
        }
      ]
    },
    {
      "cell_type": "markdown",
      "source": [
        "### **Which country was he/she from?**"
      ],
      "metadata": {
        "id": "CEuqkZhgdoWz"
      }
    },
    {
      "cell_type": "code",
      "source": [
        "oldest_athlete.select('country').show() # selecting country of our oldest athlete"
      ],
      "metadata": {
        "colab": {
          "base_uri": "https://localhost:8080/"
        },
        "id": "EoBTl4khmI31",
        "outputId": "ef6e8bd5-c813-43b9-e42b-c6c23162e57f"
      },
      "execution_count": null,
      "outputs": [
        {
          "output_type": "stream",
          "name": "stdout",
          "text": [
            "+-------+\n",
            "|country|\n",
            "+-------+\n",
            "| Canada|\n",
            "+-------+\n",
            "\n"
          ]
        }
      ]
    }
  ]
}