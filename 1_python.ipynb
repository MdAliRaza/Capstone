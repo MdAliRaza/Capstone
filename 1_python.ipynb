{
 "cells": [
  {
   "cell_type": "markdown",
   "metadata": {},
   "source": [
    "## **Intorduction**\n",
    "\n",
    "**Context**\n",
    "\n",
    "This is a historical dataset on the Modern Olympic Games, including all the Games from Sydney 2000 to London 2012. I got this data from our instructor. It contain all athletes wo have won any medal gold, silver or bronze, age of those athletes, they belong to which country, in what year they got their medals with dates and in which respective sport they have won.\n",
    "\n",
    "\n",
    "**Content**\n",
    "\n",
    "\n",
    "|**Variable**|**Description**|**Type**|\n",
    "|-|-|-|\n",
    "|**name**|name of athlete|categorical|\n",
    "|**age**|age of athlete|numerical|\n",
    "|**country**|country from athlete is|categorical|\n",
    "|**year**|got medal in year|categorical|\n",
    "|**Date_Given**|got medal in date|categorical|\n",
    "|**sports**|sport in which medal got |categorical|\n",
    "|**gold_medal**|number of gold medal won|numerical|\n",
    "|**silver_medal**|number of silver medal won|numerical|\n",
    "|**brone_medal**|number of bronze medal won|numerical|\n",
    "|**total_medal**|total medal won|numerical|\n",
    "\n",
    "\n",
    "Count of variables we have:\n",
    "\n",
    "|**Type**|**Count**|\n",
    "|-|-|\n",
    "|categorical|5|\n",
    "|numerical|5|\n"
   ]
  },
  {
   "cell_type": "code",
   "execution_count": 1,
   "metadata": {},
   "outputs": [],
   "source": [
    "# importing required libraries\n",
    "import numpy as np # data handling library\n",
    "import pandas as pd # data manipulation library\n",
    "import matplotlib.pyplot as plt # data visualization library\n",
    "import seaborn as sns # data visualization library\n",
    "import plotly.express as px # data visualization library\n",
    "import missingno as msno # data visualization library for missing data"
   ]
  },
  {
   "cell_type": "code",
   "execution_count": 2,
   "metadata": {},
   "outputs": [],
   "source": [
    "# importing the data\n",
    "df = pd.read_csv(r'C:\\Users\\ASUS\\Desktop\\python\\capstone\\olympix_data_organized_with_header (1).csv')"
   ]
  },
  {
   "cell_type": "markdown",
   "metadata": {},
   "source": [
    "## **Basic Exploration**"
   ]
  },
  {
   "cell_type": "code",
   "execution_count": 3,
   "metadata": {},
   "outputs": [
    {
     "data": {
      "text/plain": [
       "(8618, 10)"
      ]
     },
     "execution_count": 3,
     "metadata": {},
     "output_type": "execute_result"
    }
   ],
   "source": [
    "df.shape # shape of our data"
   ]
  },
  {
   "cell_type": "code",
   "execution_count": 4,
   "metadata": {},
   "outputs": [
    {
     "name": "stdout",
     "output_type": "stream",
     "text": [
      "Number of observations    :  8618\n",
      "Number of variables       :  10\n"
     ]
    }
   ],
   "source": [
    "print('Number of observations    : ', df.shape[0]) # number of rows in dataset\n",
    "print('Number of variables       : ', df.shape[1]) # number of columns in dataset"
   ]
  },
  {
   "cell_type": "code",
   "execution_count": 5,
   "metadata": {},
   "outputs": [
    {
     "data": {
      "text/plain": [
       "Index(['name', 'age', 'country', 'year', 'Date_Given', 'sports', 'gold_medal',\n",
       "       'silver_medal', 'brone_medal', 'total_medal'],\n",
       "      dtype='object')"
      ]
     },
     "execution_count": 5,
     "metadata": {},
     "output_type": "execute_result"
    }
   ],
   "source": [
    "df.columns # columns we have in our dataset"
   ]
  },
  {
   "cell_type": "code",
   "execution_count": 6,
   "metadata": {},
   "outputs": [
    {
     "data": {
      "text/html": [
       "<div>\n",
       "<style scoped>\n",
       "    .dataframe tbody tr th:only-of-type {\n",
       "        vertical-align: middle;\n",
       "    }\n",
       "\n",
       "    .dataframe tbody tr th {\n",
       "        vertical-align: top;\n",
       "    }\n",
       "\n",
       "    .dataframe thead th {\n",
       "        text-align: right;\n",
       "    }\n",
       "</style>\n",
       "<table border=\"1\" class=\"dataframe\">\n",
       "  <thead>\n",
       "    <tr style=\"text-align: right;\">\n",
       "      <th></th>\n",
       "      <th>name</th>\n",
       "      <th>age</th>\n",
       "      <th>country</th>\n",
       "      <th>year</th>\n",
       "      <th>Date_Given</th>\n",
       "      <th>sports</th>\n",
       "      <th>gold_medal</th>\n",
       "      <th>silver_medal</th>\n",
       "      <th>brone_medal</th>\n",
       "      <th>total_medal</th>\n",
       "    </tr>\n",
       "  </thead>\n",
       "  <tbody>\n",
       "    <tr>\n",
       "      <th>0</th>\n",
       "      <td>Michael Phelps</td>\n",
       "      <td>23.0</td>\n",
       "      <td>United States</td>\n",
       "      <td>2008</td>\n",
       "      <td>8/24/2008</td>\n",
       "      <td>Swimming</td>\n",
       "      <td>8</td>\n",
       "      <td>0</td>\n",
       "      <td>0</td>\n",
       "      <td>8</td>\n",
       "    </tr>\n",
       "    <tr>\n",
       "      <th>1</th>\n",
       "      <td>Michael Phelps</td>\n",
       "      <td>19.0</td>\n",
       "      <td>United States</td>\n",
       "      <td>2004</td>\n",
       "      <td>8/29/2004</td>\n",
       "      <td>Swimming</td>\n",
       "      <td>6</td>\n",
       "      <td>0</td>\n",
       "      <td>2</td>\n",
       "      <td>8</td>\n",
       "    </tr>\n",
       "    <tr>\n",
       "      <th>2</th>\n",
       "      <td>Michael Phelps</td>\n",
       "      <td>27.0</td>\n",
       "      <td>United States</td>\n",
       "      <td>2012</td>\n",
       "      <td>8/12/2012</td>\n",
       "      <td>Swimming</td>\n",
       "      <td>4</td>\n",
       "      <td>2</td>\n",
       "      <td>0</td>\n",
       "      <td>6</td>\n",
       "    </tr>\n",
       "    <tr>\n",
       "      <th>3</th>\n",
       "      <td>Natalie Coughlin</td>\n",
       "      <td>25.0</td>\n",
       "      <td>United States</td>\n",
       "      <td>2008</td>\n",
       "      <td>8/24/2008</td>\n",
       "      <td>Swimming</td>\n",
       "      <td>1</td>\n",
       "      <td>2</td>\n",
       "      <td>3</td>\n",
       "      <td>6</td>\n",
       "    </tr>\n",
       "    <tr>\n",
       "      <th>4</th>\n",
       "      <td>Aleksey Nemov</td>\n",
       "      <td>24.0</td>\n",
       "      <td>Russia</td>\n",
       "      <td>2000</td>\n",
       "      <td>10/1/2000</td>\n",
       "      <td>Gymnastics</td>\n",
       "      <td>2</td>\n",
       "      <td>1</td>\n",
       "      <td>3</td>\n",
       "      <td>6</td>\n",
       "    </tr>\n",
       "  </tbody>\n",
       "</table>\n",
       "</div>"
      ],
      "text/plain": [
       "               name   age        country  year Date_Given      sports  \\\n",
       "0    Michael Phelps  23.0  United States  2008  8/24/2008    Swimming   \n",
       "1    Michael Phelps  19.0  United States  2004  8/29/2004    Swimming   \n",
       "2    Michael Phelps  27.0  United States  2012  8/12/2012    Swimming   \n",
       "3  Natalie Coughlin  25.0  United States  2008  8/24/2008    Swimming   \n",
       "4     Aleksey Nemov  24.0         Russia  2000  10/1/2000  Gymnastics   \n",
       "\n",
       "   gold_medal  silver_medal  brone_medal  total_medal  \n",
       "0           8             0            0            8  \n",
       "1           6             0            2            8  \n",
       "2           4             2            0            6  \n",
       "3           1             2            3            6  \n",
       "4           2             1            3            6  "
      ]
     },
     "execution_count": 6,
     "metadata": {},
     "output_type": "execute_result"
    }
   ],
   "source": [
    "df.head() # viewing first 5 rows"
   ]
  },
  {
   "cell_type": "code",
   "execution_count": 7,
   "metadata": {},
   "outputs": [
    {
     "data": {
      "text/html": [
       "<div>\n",
       "<style scoped>\n",
       "    .dataframe tbody tr th:only-of-type {\n",
       "        vertical-align: middle;\n",
       "    }\n",
       "\n",
       "    .dataframe tbody tr th {\n",
       "        vertical-align: top;\n",
       "    }\n",
       "\n",
       "    .dataframe thead th {\n",
       "        text-align: right;\n",
       "    }\n",
       "</style>\n",
       "<table border=\"1\" class=\"dataframe\">\n",
       "  <thead>\n",
       "    <tr style=\"text-align: right;\">\n",
       "      <th></th>\n",
       "      <th>name</th>\n",
       "      <th>age</th>\n",
       "      <th>country</th>\n",
       "      <th>year</th>\n",
       "      <th>Date_Given</th>\n",
       "      <th>sports</th>\n",
       "      <th>gold_medal</th>\n",
       "      <th>silver_medal</th>\n",
       "      <th>brone_medal</th>\n",
       "      <th>total_medal</th>\n",
       "    </tr>\n",
       "  </thead>\n",
       "  <tbody>\n",
       "    <tr>\n",
       "      <th>8613</th>\n",
       "      <td>Olena Sadovnycha</td>\n",
       "      <td>32.0</td>\n",
       "      <td>Ukraine</td>\n",
       "      <td>2000</td>\n",
       "      <td>10/1/2000</td>\n",
       "      <td>Archery</td>\n",
       "      <td>0</td>\n",
       "      <td>1</td>\n",
       "      <td>0</td>\n",
       "      <td>1</td>\n",
       "    </tr>\n",
       "    <tr>\n",
       "      <th>8614</th>\n",
       "      <td>Kateryna Serdiuk</td>\n",
       "      <td>17.0</td>\n",
       "      <td>Ukraine</td>\n",
       "      <td>2000</td>\n",
       "      <td>10/1/2000</td>\n",
       "      <td>Archery</td>\n",
       "      <td>0</td>\n",
       "      <td>1</td>\n",
       "      <td>0</td>\n",
       "      <td>1</td>\n",
       "    </tr>\n",
       "    <tr>\n",
       "      <th>8615</th>\n",
       "      <td>Wietse van Alten</td>\n",
       "      <td>21.0</td>\n",
       "      <td>Netherlands</td>\n",
       "      <td>2000</td>\n",
       "      <td>10/1/2000</td>\n",
       "      <td>Archery</td>\n",
       "      <td>0</td>\n",
       "      <td>0</td>\n",
       "      <td>1</td>\n",
       "      <td>1</td>\n",
       "    </tr>\n",
       "    <tr>\n",
       "      <th>8616</th>\n",
       "      <td>Sandra Wagner-Sachse</td>\n",
       "      <td>31.0</td>\n",
       "      <td>Germany</td>\n",
       "      <td>2000</td>\n",
       "      <td>10/1/2000</td>\n",
       "      <td>Archery</td>\n",
       "      <td>0</td>\n",
       "      <td>0</td>\n",
       "      <td>1</td>\n",
       "      <td>1</td>\n",
       "    </tr>\n",
       "    <tr>\n",
       "      <th>8617</th>\n",
       "      <td>Rod White</td>\n",
       "      <td>23.0</td>\n",
       "      <td>United States</td>\n",
       "      <td>2000</td>\n",
       "      <td>10/1/2000</td>\n",
       "      <td>Archery</td>\n",
       "      <td>0</td>\n",
       "      <td>0</td>\n",
       "      <td>1</td>\n",
       "      <td>1</td>\n",
       "    </tr>\n",
       "  </tbody>\n",
       "</table>\n",
       "</div>"
      ],
      "text/plain": [
       "                      name   age        country  year Date_Given   sports  \\\n",
       "8613      Olena Sadovnycha  32.0        Ukraine  2000  10/1/2000  Archery   \n",
       "8614      Kateryna Serdiuk  17.0        Ukraine  2000  10/1/2000  Archery   \n",
       "8615      Wietse van Alten  21.0    Netherlands  2000  10/1/2000  Archery   \n",
       "8616  Sandra Wagner-Sachse  31.0        Germany  2000  10/1/2000  Archery   \n",
       "8617             Rod White  23.0  United States  2000  10/1/2000  Archery   \n",
       "\n",
       "      gold_medal  silver_medal  brone_medal  total_medal  \n",
       "8613           0             1            0            1  \n",
       "8614           0             1            0            1  \n",
       "8615           0             0            1            1  \n",
       "8616           0             0            1            1  \n",
       "8617           0             0            1            1  "
      ]
     },
     "execution_count": 7,
     "metadata": {},
     "output_type": "execute_result"
    }
   ],
   "source": [
    "df.tail() # viewing last 5 rows"
   ]
  },
  {
   "cell_type": "code",
   "execution_count": 8,
   "metadata": {},
   "outputs": [
    {
     "name": "stdout",
     "output_type": "stream",
     "text": [
      "<class 'pandas.core.frame.DataFrame'>\n",
      "RangeIndex: 8618 entries, 0 to 8617\n",
      "Data columns (total 10 columns):\n",
      " #   Column        Non-Null Count  Dtype  \n",
      "---  ------        --------------  -----  \n",
      " 0   name          8613 non-null   object \n",
      " 1   age           8613 non-null   float64\n",
      " 2   country       8618 non-null   object \n",
      " 3   year          8618 non-null   int64  \n",
      " 4   Date_Given    8618 non-null   object \n",
      " 5   sports        8618 non-null   object \n",
      " 6   gold_medal    8618 non-null   int64  \n",
      " 7   silver_medal  8618 non-null   int64  \n",
      " 8   brone_medal   8618 non-null   int64  \n",
      " 9   total_medal   8618 non-null   int64  \n",
      "dtypes: float64(1), int64(5), object(4)\n",
      "memory usage: 673.4+ KB\n"
     ]
    }
   ],
   "source": [
    "df.info() # checking for null values and data types of variables"
   ]
  },
  {
   "cell_type": "markdown",
   "metadata": {},
   "source": [
    "- here we can see that there is missing values in name and age variables\n",
    "- also year and date_given column are wrongly read"
   ]
  },
  {
   "cell_type": "code",
   "execution_count": 9,
   "metadata": {},
   "outputs": [],
   "source": [
    "df['year'] = df['year'].astype('object') # changing year to category"
   ]
  },
  {
   "cell_type": "code",
   "execution_count": 10,
   "metadata": {},
   "outputs": [],
   "source": [
    "df['Date_Given'] = pd.to_datetime(df['Date_Given'], format='%m/%d/%Y') # changing date to datetime"
   ]
  },
  {
   "cell_type": "code",
   "execution_count": 11,
   "metadata": {},
   "outputs": [
    {
     "name": "stdout",
     "output_type": "stream",
     "text": [
      "<class 'pandas.core.frame.DataFrame'>\n",
      "RangeIndex: 8618 entries, 0 to 8617\n",
      "Data columns (total 10 columns):\n",
      " #   Column        Non-Null Count  Dtype         \n",
      "---  ------        --------------  -----         \n",
      " 0   name          8613 non-null   object        \n",
      " 1   age           8613 non-null   float64       \n",
      " 2   country       8618 non-null   object        \n",
      " 3   year          8618 non-null   object        \n",
      " 4   Date_Given    8618 non-null   datetime64[ns]\n",
      " 5   sports        8618 non-null   object        \n",
      " 6   gold_medal    8618 non-null   int64         \n",
      " 7   silver_medal  8618 non-null   int64         \n",
      " 8   brone_medal   8618 non-null   int64         \n",
      " 9   total_medal   8618 non-null   int64         \n",
      "dtypes: datetime64[ns](1), float64(1), int64(4), object(4)\n",
      "memory usage: 673.4+ KB\n"
     ]
    }
   ],
   "source": [
    "# checking if datatypes got changed or not\n",
    "df.info()"
   ]
  },
  {
   "cell_type": "code",
   "execution_count": 12,
   "metadata": {},
   "outputs": [
    {
     "data": {
      "text/plain": [
       "Index(['age', 'gold_medal', 'silver_medal', 'brone_medal', 'total_medal'], dtype='object')"
      ]
     },
     "execution_count": 12,
     "metadata": {},
     "output_type": "execute_result"
    }
   ],
   "source": [
    "num_col = df.select_dtypes(include='number').columns # taking out our numerical variables\n",
    "num_col # viewing our numerical variables"
   ]
  },
  {
   "cell_type": "code",
   "execution_count": 13,
   "metadata": {},
   "outputs": [
    {
     "data": {
      "text/html": [
       "<div>\n",
       "<style scoped>\n",
       "    .dataframe tbody tr th:only-of-type {\n",
       "        vertical-align: middle;\n",
       "    }\n",
       "\n",
       "    .dataframe tbody tr th {\n",
       "        vertical-align: top;\n",
       "    }\n",
       "\n",
       "    .dataframe thead th {\n",
       "        text-align: right;\n",
       "    }\n",
       "</style>\n",
       "<table border=\"1\" class=\"dataframe\">\n",
       "  <thead>\n",
       "    <tr style=\"text-align: right;\">\n",
       "      <th></th>\n",
       "      <th>age</th>\n",
       "      <th>gold_medal</th>\n",
       "      <th>silver_medal</th>\n",
       "      <th>brone_medal</th>\n",
       "      <th>total_medal</th>\n",
       "    </tr>\n",
       "  </thead>\n",
       "  <tbody>\n",
       "    <tr>\n",
       "      <th>count</th>\n",
       "      <td>8613.000000</td>\n",
       "      <td>8618.000000</td>\n",
       "      <td>8618.000000</td>\n",
       "      <td>8618.000000</td>\n",
       "      <td>8618.000000</td>\n",
       "    </tr>\n",
       "    <tr>\n",
       "      <th>mean</th>\n",
       "      <td>26.405434</td>\n",
       "      <td>0.364702</td>\n",
       "      <td>0.363309</td>\n",
       "      <td>0.377698</td>\n",
       "      <td>1.105709</td>\n",
       "    </tr>\n",
       "    <tr>\n",
       "      <th>std</th>\n",
       "      <td>5.102118</td>\n",
       "      <td>0.545349</td>\n",
       "      <td>0.511613</td>\n",
       "      <td>0.505005</td>\n",
       "      <td>0.408892</td>\n",
       "    </tr>\n",
       "    <tr>\n",
       "      <th>min</th>\n",
       "      <td>15.000000</td>\n",
       "      <td>0.000000</td>\n",
       "      <td>0.000000</td>\n",
       "      <td>0.000000</td>\n",
       "      <td>1.000000</td>\n",
       "    </tr>\n",
       "    <tr>\n",
       "      <th>25%</th>\n",
       "      <td>23.000000</td>\n",
       "      <td>0.000000</td>\n",
       "      <td>0.000000</td>\n",
       "      <td>0.000000</td>\n",
       "      <td>1.000000</td>\n",
       "    </tr>\n",
       "    <tr>\n",
       "      <th>50%</th>\n",
       "      <td>26.000000</td>\n",
       "      <td>0.000000</td>\n",
       "      <td>0.000000</td>\n",
       "      <td>0.000000</td>\n",
       "      <td>1.000000</td>\n",
       "    </tr>\n",
       "    <tr>\n",
       "      <th>75%</th>\n",
       "      <td>29.000000</td>\n",
       "      <td>1.000000</td>\n",
       "      <td>1.000000</td>\n",
       "      <td>1.000000</td>\n",
       "      <td>1.000000</td>\n",
       "    </tr>\n",
       "    <tr>\n",
       "      <th>max</th>\n",
       "      <td>61.000000</td>\n",
       "      <td>8.000000</td>\n",
       "      <td>3.000000</td>\n",
       "      <td>3.000000</td>\n",
       "      <td>8.000000</td>\n",
       "    </tr>\n",
       "  </tbody>\n",
       "</table>\n",
       "</div>"
      ],
      "text/plain": [
       "               age   gold_medal  silver_medal  brone_medal  total_medal\n",
       "count  8613.000000  8618.000000   8618.000000  8618.000000  8618.000000\n",
       "mean     26.405434     0.364702      0.363309     0.377698     1.105709\n",
       "std       5.102118     0.545349      0.511613     0.505005     0.408892\n",
       "min      15.000000     0.000000      0.000000     0.000000     1.000000\n",
       "25%      23.000000     0.000000      0.000000     0.000000     1.000000\n",
       "50%      26.000000     0.000000      0.000000     0.000000     1.000000\n",
       "75%      29.000000     1.000000      1.000000     1.000000     1.000000\n",
       "max      61.000000     8.000000      3.000000     3.000000     8.000000"
      ]
     },
     "execution_count": 13,
     "metadata": {},
     "output_type": "execute_result"
    }
   ],
   "source": [
    "# statistical measures for numerical variables\n",
    "df[num_col].describe()"
   ]
  },
  {
   "cell_type": "code",
   "execution_count": 14,
   "metadata": {},
   "outputs": [
    {
     "data": {
      "text/plain": [
       "Index(['name', 'country', 'year', 'sports'], dtype='object')"
      ]
     },
     "execution_count": 14,
     "metadata": {},
     "output_type": "execute_result"
    }
   ],
   "source": [
    "cat_col = df.select_dtypes(include='object').columns # taking out our categorical variables\n",
    "df[cat_col]=df[cat_col].astype('category') # changing data type to category\n",
    "cat_col # viewing our categorical variables"
   ]
  },
  {
   "cell_type": "code",
   "execution_count": 15,
   "metadata": {},
   "outputs": [
    {
     "data": {
      "text/html": [
       "<div>\n",
       "<style scoped>\n",
       "    .dataframe tbody tr th:only-of-type {\n",
       "        vertical-align: middle;\n",
       "    }\n",
       "\n",
       "    .dataframe tbody tr th {\n",
       "        vertical-align: top;\n",
       "    }\n",
       "\n",
       "    .dataframe thead th {\n",
       "        text-align: right;\n",
       "    }\n",
       "</style>\n",
       "<table border=\"1\" class=\"dataframe\">\n",
       "  <thead>\n",
       "    <tr style=\"text-align: right;\">\n",
       "      <th></th>\n",
       "      <th>name</th>\n",
       "      <th>country</th>\n",
       "      <th>year</th>\n",
       "      <th>sports</th>\n",
       "    </tr>\n",
       "  </thead>\n",
       "  <tbody>\n",
       "    <tr>\n",
       "      <th>count</th>\n",
       "      <td>8613</td>\n",
       "      <td>8618</td>\n",
       "      <td>8618</td>\n",
       "      <td>8618</td>\n",
       "    </tr>\n",
       "    <tr>\n",
       "      <th>unique</th>\n",
       "      <td>6955</td>\n",
       "      <td>110</td>\n",
       "      <td>7</td>\n",
       "      <td>49</td>\n",
       "    </tr>\n",
       "    <tr>\n",
       "      <th>top</th>\n",
       "      <td>Wang Hao</td>\n",
       "      <td>United States</td>\n",
       "      <td>2008</td>\n",
       "      <td>Athletics</td>\n",
       "    </tr>\n",
       "    <tr>\n",
       "      <th>freq</th>\n",
       "      <td>4</td>\n",
       "      <td>1109</td>\n",
       "      <td>1872</td>\n",
       "      <td>687</td>\n",
       "    </tr>\n",
       "  </tbody>\n",
       "</table>\n",
       "</div>"
      ],
      "text/plain": [
       "            name        country  year     sports\n",
       "count       8613           8618  8618       8618\n",
       "unique      6955            110     7         49\n",
       "top     Wang Hao  United States  2008  Athletics\n",
       "freq           4           1109  1872        687"
      ]
     },
     "execution_count": 15,
     "metadata": {},
     "output_type": "execute_result"
    }
   ],
   "source": [
    "# statiscal measures for categorical variables\n",
    "df[cat_col].describe()"
   ]
  },
  {
   "cell_type": "markdown",
   "metadata": {},
   "source": [
    "## **Missing Values**"
   ]
  },
  {
   "cell_type": "code",
   "execution_count": 16,
   "metadata": {},
   "outputs": [
    {
     "data": {
      "text/plain": [
       "name            5\n",
       "age             5\n",
       "country         0\n",
       "year            0\n",
       "Date_Given      0\n",
       "sports          0\n",
       "gold_medal      0\n",
       "silver_medal    0\n",
       "brone_medal     0\n",
       "total_medal     0\n",
       "dtype: int64"
      ]
     },
     "execution_count": 16,
     "metadata": {},
     "output_type": "execute_result"
    }
   ],
   "source": [
    "missing_values = df.isna().sum() #assigning missing values to variable\n",
    "missing_values # viewing missing values\n"
   ]
  },
  {
   "cell_type": "markdown",
   "metadata": {},
   "source": [
    "- as said earlier there are missing values in name and age variable"
   ]
  },
  {
   "cell_type": "code",
   "execution_count": 17,
   "metadata": {},
   "outputs": [
    {
     "data": {
      "image/png": "[encoded data removed]",
      "text/plain": [
       "<Figure size 1800x720 with 3 Axes>"
      ]
     },
     "metadata": {
      "needs_background": "light"
     },
     "output_type": "display_data"
    }
   ],
   "source": [
    "msno.bar(df,color='orange') # visualizing missing values\n",
    "plt.show() # viewing chart"
   ]
  },
  {
   "cell_type": "code",
   "execution_count": 18,
   "metadata": {},
   "outputs": [
    {
     "name": "stdout",
     "output_type": "stream",
     "text": [
      "Name : 0.06 %\n",
      "Age  : 0.06 %\n"
     ]
    }
   ],
   "source": [
    "# missing values percentage\n",
    "print('Name :', round((missing_values['name']/df.shape[0])*100,2),'%')\n",
    "print('Age  :', round((missing_values['age']/df.shape[0])*100,2),'%')"
   ]
  },
  {
   "cell_type": "markdown",
   "metadata": {},
   "source": [
    "- removing missing values directly as less than 0.1% is missing data and it will not affect our dataset"
   ]
  },
  {
   "cell_type": "code",
   "execution_count": 19,
   "metadata": {},
   "outputs": [],
   "source": [
    "# dropping missing values from dataset\n",
    "df = df.dropna()"
   ]
  },
  {
   "cell_type": "code",
   "execution_count": 20,
   "metadata": {},
   "outputs": [
    {
     "data": {
      "text/plain": [
       "name            0\n",
       "age             0\n",
       "country         0\n",
       "year            0\n",
       "Date_Given      0\n",
       "sports          0\n",
       "gold_medal      0\n",
       "silver_medal    0\n",
       "brone_medal     0\n",
       "total_medal     0\n",
       "dtype: int64"
      ]
     },
     "execution_count": 20,
     "metadata": {},
     "output_type": "execute_result"
    }
   ],
   "source": [
    "# re-checking if missing values got removed or not\n",
    "df.isna().sum()"
   ]
  },
  {
   "cell_type": "code",
   "execution_count": 21,
   "metadata": {},
   "outputs": [
    {
     "data": {
      "text/plain": [
       "(8613, 10)"
      ]
     },
     "execution_count": 21,
     "metadata": {},
     "output_type": "execute_result"
    }
   ],
   "source": [
    "# re-checking shape as we have dropped missing values\n",
    "df.shape"
   ]
  },
  {
   "cell_type": "markdown",
   "metadata": {},
   "source": [
    "- earlier it was 8618 observations \n",
    "- now it changed to 8613 after dropping missing values"
   ]
  },
  {
   "cell_type": "markdown",
   "metadata": {},
   "source": [
    "## **Removing duplicates if having**"
   ]
  },
  {
   "cell_type": "code",
   "execution_count": 22,
   "metadata": {},
   "outputs": [
    {
     "data": {
      "text/html": [
       "<div>\n",
       "<style scoped>\n",
       "    .dataframe tbody tr th:only-of-type {\n",
       "        vertical-align: middle;\n",
       "    }\n",
       "\n",
       "    .dataframe tbody tr th {\n",
       "        vertical-align: top;\n",
       "    }\n",
       "\n",
       "    .dataframe thead th {\n",
       "        text-align: right;\n",
       "    }\n",
       "</style>\n",
       "<table border=\"1\" class=\"dataframe\">\n",
       "  <thead>\n",
       "    <tr style=\"text-align: right;\">\n",
       "      <th></th>\n",
       "      <th>name</th>\n",
       "      <th>age</th>\n",
       "      <th>country</th>\n",
       "      <th>year</th>\n",
       "      <th>Date_Given</th>\n",
       "      <th>sports</th>\n",
       "      <th>gold_medal</th>\n",
       "      <th>silver_medal</th>\n",
       "      <th>brone_medal</th>\n",
       "      <th>total_medal</th>\n",
       "    </tr>\n",
       "  </thead>\n",
       "  <tbody>\n",
       "    <tr>\n",
       "      <th>0</th>\n",
       "      <td>Michael Phelps</td>\n",
       "      <td>23.0</td>\n",
       "      <td>United States</td>\n",
       "      <td>2008</td>\n",
       "      <td>2008-08-24</td>\n",
       "      <td>Swimming</td>\n",
       "      <td>8</td>\n",
       "      <td>0</td>\n",
       "      <td>0</td>\n",
       "      <td>8</td>\n",
       "    </tr>\n",
       "    <tr>\n",
       "      <th>1</th>\n",
       "      <td>Michael Phelps</td>\n",
       "      <td>19.0</td>\n",
       "      <td>United States</td>\n",
       "      <td>2004</td>\n",
       "      <td>2004-08-29</td>\n",
       "      <td>Swimming</td>\n",
       "      <td>6</td>\n",
       "      <td>0</td>\n",
       "      <td>2</td>\n",
       "      <td>8</td>\n",
       "    </tr>\n",
       "    <tr>\n",
       "      <th>2</th>\n",
       "      <td>Michael Phelps</td>\n",
       "      <td>27.0</td>\n",
       "      <td>United States</td>\n",
       "      <td>2012</td>\n",
       "      <td>2012-08-12</td>\n",
       "      <td>Swimming</td>\n",
       "      <td>4</td>\n",
       "      <td>2</td>\n",
       "      <td>0</td>\n",
       "      <td>6</td>\n",
       "    </tr>\n",
       "    <tr>\n",
       "      <th>3</th>\n",
       "      <td>Natalie Coughlin</td>\n",
       "      <td>25.0</td>\n",
       "      <td>United States</td>\n",
       "      <td>2008</td>\n",
       "      <td>2008-08-24</td>\n",
       "      <td>Swimming</td>\n",
       "      <td>1</td>\n",
       "      <td>2</td>\n",
       "      <td>3</td>\n",
       "      <td>6</td>\n",
       "    </tr>\n",
       "    <tr>\n",
       "      <th>4</th>\n",
       "      <td>Aleksey Nemov</td>\n",
       "      <td>24.0</td>\n",
       "      <td>Russia</td>\n",
       "      <td>2000</td>\n",
       "      <td>2000-10-01</td>\n",
       "      <td>Gymnastics</td>\n",
       "      <td>2</td>\n",
       "      <td>1</td>\n",
       "      <td>3</td>\n",
       "      <td>6</td>\n",
       "    </tr>\n",
       "    <tr>\n",
       "      <th>...</th>\n",
       "      <td>...</td>\n",
       "      <td>...</td>\n",
       "      <td>...</td>\n",
       "      <td>...</td>\n",
       "      <td>...</td>\n",
       "      <td>...</td>\n",
       "      <td>...</td>\n",
       "      <td>...</td>\n",
       "      <td>...</td>\n",
       "      <td>...</td>\n",
       "    </tr>\n",
       "    <tr>\n",
       "      <th>8613</th>\n",
       "      <td>Olena Sadovnycha</td>\n",
       "      <td>32.0</td>\n",
       "      <td>Ukraine</td>\n",
       "      <td>2000</td>\n",
       "      <td>2000-10-01</td>\n",
       "      <td>Archery</td>\n",
       "      <td>0</td>\n",
       "      <td>1</td>\n",
       "      <td>0</td>\n",
       "      <td>1</td>\n",
       "    </tr>\n",
       "    <tr>\n",
       "      <th>8614</th>\n",
       "      <td>Kateryna Serdiuk</td>\n",
       "      <td>17.0</td>\n",
       "      <td>Ukraine</td>\n",
       "      <td>2000</td>\n",
       "      <td>2000-10-01</td>\n",
       "      <td>Archery</td>\n",
       "      <td>0</td>\n",
       "      <td>1</td>\n",
       "      <td>0</td>\n",
       "      <td>1</td>\n",
       "    </tr>\n",
       "    <tr>\n",
       "      <th>8615</th>\n",
       "      <td>Wietse van Alten</td>\n",
       "      <td>21.0</td>\n",
       "      <td>Netherlands</td>\n",
       "      <td>2000</td>\n",
       "      <td>2000-10-01</td>\n",
       "      <td>Archery</td>\n",
       "      <td>0</td>\n",
       "      <td>0</td>\n",
       "      <td>1</td>\n",
       "      <td>1</td>\n",
       "    </tr>\n",
       "    <tr>\n",
       "      <th>8616</th>\n",
       "      <td>Sandra Wagner-Sachse</td>\n",
       "      <td>31.0</td>\n",
       "      <td>Germany</td>\n",
       "      <td>2000</td>\n",
       "      <td>2000-10-01</td>\n",
       "      <td>Archery</td>\n",
       "      <td>0</td>\n",
       "      <td>0</td>\n",
       "      <td>1</td>\n",
       "      <td>1</td>\n",
       "    </tr>\n",
       "    <tr>\n",
       "      <th>8617</th>\n",
       "      <td>Rod White</td>\n",
       "      <td>23.0</td>\n",
       "      <td>United States</td>\n",
       "      <td>2000</td>\n",
       "      <td>2000-10-01</td>\n",
       "      <td>Archery</td>\n",
       "      <td>0</td>\n",
       "      <td>0</td>\n",
       "      <td>1</td>\n",
       "      <td>1</td>\n",
       "    </tr>\n",
       "  </tbody>\n",
       "</table>\n",
       "<p>8613 rows × 10 columns</p>\n",
       "</div>"
      ],
      "text/plain": [
       "                      name   age        country  year Date_Given      sports  \\\n",
       "0           Michael Phelps  23.0  United States  2008 2008-08-24    Swimming   \n",
       "1           Michael Phelps  19.0  United States  2004 2004-08-29    Swimming   \n",
       "2           Michael Phelps  27.0  United States  2012 2012-08-12    Swimming   \n",
       "3         Natalie Coughlin  25.0  United States  2008 2008-08-24    Swimming   \n",
       "4            Aleksey Nemov  24.0         Russia  2000 2000-10-01  Gymnastics   \n",
       "...                    ...   ...            ...   ...        ...         ...   \n",
       "8613      Olena Sadovnycha  32.0        Ukraine  2000 2000-10-01     Archery   \n",
       "8614      Kateryna Serdiuk  17.0        Ukraine  2000 2000-10-01     Archery   \n",
       "8615      Wietse van Alten  21.0    Netherlands  2000 2000-10-01     Archery   \n",
       "8616  Sandra Wagner-Sachse  31.0        Germany  2000 2000-10-01     Archery   \n",
       "8617             Rod White  23.0  United States  2000 2000-10-01     Archery   \n",
       "\n",
       "      gold_medal  silver_medal  brone_medal  total_medal  \n",
       "0              8             0            0            8  \n",
       "1              6             0            2            8  \n",
       "2              4             2            0            6  \n",
       "3              1             2            3            6  \n",
       "4              2             1            3            6  \n",
       "...          ...           ...          ...          ...  \n",
       "8613           0             1            0            1  \n",
       "8614           0             1            0            1  \n",
       "8615           0             0            1            1  \n",
       "8616           0             0            1            1  \n",
       "8617           0             0            1            1  \n",
       "\n",
       "[8613 rows x 10 columns]"
      ]
     },
     "execution_count": 22,
     "metadata": {},
     "output_type": "execute_result"
    }
   ],
   "source": [
    "# dropping duplicates from our dataset\n",
    "df.drop_duplicates()"
   ]
  },
  {
   "cell_type": "code",
   "execution_count": 23,
   "metadata": {},
   "outputs": [
    {
     "data": {
      "text/plain": [
       "(8613, 10)"
      ]
     },
     "execution_count": 23,
     "metadata": {},
     "output_type": "execute_result"
    }
   ],
   "source": [
    "# re-checking shape as we dropped duplicates\n",
    "df.shape"
   ]
  },
  {
   "cell_type": "markdown",
   "metadata": {},
   "source": [
    "- shape remains same as no duplicates were there"
   ]
  },
  {
   "cell_type": "markdown",
   "metadata": {},
   "source": [
    "## **Removing special characters from name column**"
   ]
  },
  {
   "cell_type": "code",
   "execution_count": 24,
   "metadata": {},
   "outputs": [],
   "source": [
    "import unicodedata # importing unicode module\n",
    "def strip_accents(text): \n",
    "    return ''.join(char for char in\n",
    "                   unicodedata.normalize('NFKD', text) # replace all compatibility characters with their equivalents\n",
    "                   if unicodedata.category(char) != 'Mn')\n",
    "new_name = []\n",
    "for i in df['name'].values: #iterating through name variable\n",
    "    a = strip_accents(i) # removing all latin charters\n",
    "    new_name.append(a) # adding to new_name list\n",
    "\n",
    "df['name'] = new_name # replacing new_name list with our name variable\n"
   ]
  },
  {
   "cell_type": "markdown",
   "metadata": {},
   "source": [
    "- all latin characters have been removed like\n",
    "- - Simona AmÃ¢nar       to  Simona Amanar\n",
    "- - NicolÃ¡s MassÃº      to  Nicolas Massu\n",
    "- - Matti HautamÃ¤ki     to  Matti Hautamaki\n",
    "- - Kjetil AndrÃ© Aamodt to  Kjetil Andre Aamodt\n",
    "\n",
    "\n",
    "\n",
    "\n",
    "\n",
    "\n"
   ]
  },
  {
   "cell_type": "markdown",
   "metadata": {},
   "source": [
    "## **Perform data visualization techniques to appropriate columns and explain them**"
   ]
  },
  {
   "cell_type": "code",
   "execution_count": 25,
   "metadata": {},
   "outputs": [],
   "source": [
    "c = df.country.value_counts()\n",
    "px.bar(c[:20], color=c.index[:20], title=\"Top 20 countries in terms of number of participants :\")"
   ]
  },
  {
   "cell_type": "markdown",
   "metadata": {},
   "source": [
    "- as you can see that United States has highest number of participants with 1109\n",
    "- followed by russia 706, germany 552,  australia 524"
   ]
  },
  {
   "cell_type": "code",
   "execution_count": null,
   "metadata": {},
   "outputs": [
    {
     "data": {
      "application/vnd.plotly.v1+json": {
       "config": {
        "plotlyServerURL": "https://plot.ly"
       },
       "data": [
        {
         "alignmentgroup": "True",
         "hovertemplate": "color=Athletics<br>index=%{x}<br>value=%{y}<extra></extra>",
         "legendgroup": "Athletics",
         "marker": {
          "color": "#636efa",
          "pattern": {
           "shape": ""
          }
         },
         "name": "Athletics",
         "offsetgroup": "Athletics",
         "orientation": "v",
         "showlegend": true,
         "textposition": "auto",
         "type": "bar",
         "x": [
          "Athletics"
         ],
         "xaxis": "x",
         "y": [
          687
         ],
         "yaxis": "y"
        },
        {
         "alignmentgroup": "True",
         "hovertemplate": "color=Rowing<br>index=%{x}<br>value=%{y}<extra></extra>",
         "legendgroup": "Rowing",
         "marker": {
          "color": "#EF553B",
          "pattern": {
           "shape": ""
          }
         },
         "name": "Rowing",
         "offsetgroup": "Rowing",
         "orientation": "v",
         "showlegend": true,
         "textposition": "auto",
         "type": "bar",
         "x": [
          "Rowing"
         ],
         "xaxis": "x",
         "y": [
          567
         ],
         "yaxis": "y"
        },
        {
         "alignmentgroup": "True",
         "hovertemplate": "color=Swimming<br>index=%{x}<br>value=%{y}<extra></extra>",
         "legendgroup": "Swimming",
         "marker": {
          "color": "#00cc96",
          "pattern": {
           "shape": ""
          }
         },
         "name": "Swimming",
         "offsetgroup": "Swimming",
         "orientation": "v",
         "showlegend": true,
         "textposition": "auto",
         "type": "bar",
         "x": [
          "Swimming"
         ],
         "xaxis": "x",
         "y": [
          487
         ],
         "yaxis": "y"
        },
        {
         "alignmentgroup": "True",
         "hovertemplate": "color=Football<br>index=%{x}<br>value=%{y}<extra></extra>",
         "legendgroup": "Football",
         "marker": {
          "color": "#ab63fa",
          "pattern": {
           "shape": ""
          }
         },
         "name": "Football",
         "offsetgroup": "Football",
         "orientation": "v",
         "showlegend": true,
         "textposition": "auto",
         "type": "bar",
         "x": [
          "Football"
         ],
         "xaxis": "x",
         "y": [
          407
         ],
         "yaxis": "y"
        },
        {
         "alignmentgroup": "True",
         "hovertemplate": "color=Hockey<br>index=%{x}<br>value=%{y}<extra></extra>",
         "legendgroup": "Hockey",
         "marker": {
          "color": "#FFA15A",
          "pattern": {
           "shape": ""
          }
         },
         "name": "Hockey",
         "offsetgroup": "Hockey",
         "orientation": "v",
         "showlegend": true,
         "textposition": "auto",
         "type": "bar",
         "x": [
          "Hockey"
         ],
         "xaxis": "x",
         "y": [
          386
         ],
         "yaxis": "y"
        },
        {
         "alignmentgroup": "True",
         "hovertemplate": "color=Ice Hockey<br>index=%{x}<br>value=%{y}<extra></extra>",
         "legendgroup": "Ice Hockey",
         "marker": {
          "color": "#19d3f3",
          "pattern": {
           "shape": ""
          }
         },
         "name": "Ice Hockey",
         "offsetgroup": "Ice Hockey",
         "orientation": "v",
         "showlegend": true,
         "textposition": "auto",
         "type": "bar",
         "x": [
          "Ice Hockey"
         ],
         "xaxis": "x",
         "y": [
          384
         ],
         "yaxis": "y"
        },
        {
         "alignmentgroup": "True",
         "hovertemplate": "color=Handball<br>index=%{x}<br>value=%{y}<extra></extra>",
         "legendgroup": "Handball",
         "marker": {
          "color": "#FF6692",
          "pattern": {
           "shape": ""
          }
         },
         "name": "Handball",
         "offsetgroup": "Handball",
         "orientation": "v",
         "showlegend": true,
         "textposition": "auto",
         "type": "bar",
         "x": [
          "Handball"
         ],
         "xaxis": "x",
         "y": [
          351
         ],
         "yaxis": "y"
        },
        {
         "alignmentgroup": "True",
         "hovertemplate": "color=Waterpolo<br>index=%{x}<br>value=%{y}<extra></extra>",
         "legendgroup": "Waterpolo",
         "marker": {
          "color": "#B6E880",
          "pattern": {
           "shape": ""
          }
         },
         "name": "Waterpolo",
         "offsetgroup": "Waterpolo",
         "orientation": "v",
         "showlegend": true,
         "textposition": "auto",
         "type": "bar",
         "x": [
          "Waterpolo"
         ],
         "xaxis": "x",
         "y": [
          306
         ],
         "yaxis": "y"
        },
        {
         "alignmentgroup": "True",
         "hovertemplate": "color=Canoeing<br>index=%{x}<br>value=%{y}<extra></extra>",
         "legendgroup": "Canoeing",
         "marker": {
          "color": "#FF97FF",
          "pattern": {
           "shape": ""
          }
         },
         "name": "Canoeing",
         "offsetgroup": "Canoeing",
         "orientation": "v",
         "showlegend": true,
         "textposition": "auto",
         "type": "bar",
         "x": [
          "Canoeing"
         ],
         "xaxis": "x",
         "y": [
          295
         ],
         "yaxis": "y"
        },
        {
         "alignmentgroup": "True",
         "hovertemplate": "color=Basketball<br>index=%{x}<br>value=%{y}<extra></extra>",
         "legendgroup": "Basketball",
         "marker": {
          "color": "#FECB52",
          "pattern": {
           "shape": ""
          }
         },
         "name": "Basketball",
         "offsetgroup": "Basketball",
         "orientation": "v",
         "showlegend": true,
         "textposition": "auto",
         "type": "bar",
         "x": [
          "Basketball"
         ],
         "xaxis": "x",
         "y": [
          287
         ],
         "yaxis": "y"
        },
        {
         "alignmentgroup": "True",
         "hovertemplate": "color=Volleyball<br>index=%{x}<br>value=%{y}<extra></extra>",
         "legendgroup": "Volleyball",
         "marker": {
          "color": "#636efa",
          "pattern": {
           "shape": ""
          }
         },
         "name": "Volleyball",
         "offsetgroup": "Volleyball",
         "orientation": "v",
         "showlegend": true,
         "textposition": "auto",
         "type": "bar",
         "x": [
          "Volleyball"
         ],
         "xaxis": "x",
         "y": [
          278
         ],
         "yaxis": "y"
        },
        {
         "alignmentgroup": "True",
         "hovertemplate": "color=Cycling<br>index=%{x}<br>value=%{y}<extra></extra>",
         "legendgroup": "Cycling",
         "marker": {
          "color": "#EF553B",
          "pattern": {
           "shape": ""
          }
         },
         "name": "Cycling",
         "offsetgroup": "Cycling",
         "orientation": "v",
         "showlegend": true,
         "textposition": "auto",
         "type": "bar",
         "x": [
          "Cycling"
         ],
         "xaxis": "x",
         "y": [
          261
         ],
         "yaxis": "y"
        },
        {
         "alignmentgroup": "True",
         "hovertemplate": "color=Wrestling<br>index=%{x}<br>value=%{y}<extra></extra>",
         "legendgroup": "Wrestling",
         "marker": {
          "color": "#00cc96",
          "pattern": {
           "shape": ""
          }
         },
         "name": "Wrestling",
         "offsetgroup": "Wrestling",
         "orientation": "v",
         "showlegend": true,
         "textposition": "auto",
         "type": "bar",
         "x": [
          "Wrestling"
         ],
         "xaxis": "x",
         "y": [
          245
         ],
         "yaxis": "y"
        },
        {
         "alignmentgroup": "True",
         "hovertemplate": "color=Fencing<br>index=%{x}<br>value=%{y}<extra></extra>",
         "legendgroup": "Fencing",
         "marker": {
          "color": "#ab63fa",
          "pattern": {
           "shape": ""
          }
         },
         "name": "Fencing",
         "offsetgroup": "Fencing",
         "orientation": "v",
         "showlegend": true,
         "textposition": "auto",
         "type": "bar",
         "x": [
          "Fencing"
         ],
         "xaxis": "x",
         "y": [
          230
         ],
         "yaxis": "y"
        },
        {
         "alignmentgroup": "True",
         "hovertemplate": "color=Judo<br>index=%{x}<br>value=%{y}<extra></extra>",
         "legendgroup": "Judo",
         "marker": {
          "color": "#FFA15A",
          "pattern": {
           "shape": ""
          }
         },
         "name": "Judo",
         "offsetgroup": "Judo",
         "orientation": "v",
         "showlegend": true,
         "textposition": "auto",
         "type": "bar",
         "x": [
          "Judo"
         ],
         "xaxis": "x",
         "y": [
          224
         ],
         "yaxis": "y"
        },
        {
         "alignmentgroup": "True",
         "hovertemplate": "color=Baseball<br>index=%{x}<br>value=%{y}<extra></extra>",
         "legendgroup": "Baseball",
         "marker": {
          "color": "#19d3f3",
          "pattern": {
           "shape": ""
          }
         },
         "name": "Baseball",
         "offsetgroup": "Baseball",
         "orientation": "v",
         "showlegend": true,
         "textposition": "auto",
         "type": "bar",
         "x": [
          "Baseball"
         ],
         "xaxis": "x",
         "y": [
          216
         ],
         "yaxis": "y"
        },
        {
         "alignmentgroup": "True",
         "hovertemplate": "color=Sailing<br>index=%{x}<br>value=%{y}<extra></extra>",
         "legendgroup": "Sailing",
         "marker": {
          "color": "#FF6692",
          "pattern": {
           "shape": ""
          }
         },
         "name": "Sailing",
         "offsetgroup": "Sailing",
         "orientation": "v",
         "showlegend": true,
         "textposition": "auto",
         "type": "bar",
         "x": [
          "Sailing"
         ],
         "xaxis": "x",
         "y": [
          210
         ],
         "yaxis": "y"
        },
        {
         "alignmentgroup": "True",
         "hovertemplate": "color=Gymnastics<br>index=%{x}<br>value=%{y}<extra></extra>",
         "legendgroup": "Gymnastics",
         "marker": {
          "color": "#B6E880",
          "pattern": {
           "shape": ""
          }
         },
         "name": "Gymnastics",
         "offsetgroup": "Gymnastics",
         "orientation": "v",
         "showlegend": true,
         "textposition": "auto",
         "type": "bar",
         "x": [
          "Gymnastics"
         ],
         "xaxis": "x",
         "y": [
          194
         ],
         "yaxis": "y"
        },
        {
         "alignmentgroup": "True",
         "hovertemplate": "color=Boxing<br>index=%{x}<br>value=%{y}<extra></extra>",
         "legendgroup": "Boxing",
         "marker": {
          "color": "#FF97FF",
          "pattern": {
           "shape": ""
          }
         },
         "name": "Boxing",
         "offsetgroup": "Boxing",
         "orientation": "v",
         "showlegend": true,
         "textposition": "auto",
         "type": "bar",
         "x": [
          "Boxing"
         ],
         "xaxis": "x",
         "y": [
          188
         ],
         "yaxis": "y"
        },
        {
         "alignmentgroup": "True",
         "hovertemplate": "color=Shooting<br>index=%{x}<br>value=%{y}<extra></extra>",
         "legendgroup": "Shooting",
         "marker": {
          "color": "#FECB52",
          "pattern": {
           "shape": ""
          }
         },
         "name": "Shooting",
         "offsetgroup": "Shooting",
         "orientation": "v",
         "showlegend": true,
         "textposition": "auto",
         "type": "bar",
         "x": [
          "Shooting"
         ],
         "xaxis": "x",
         "y": [
          181
         ],
         "yaxis": "y"
        }
       ],
       "layout": {
        "barmode": "relative",
        "legend": {
         "title": {
          "text": "color"
         },
         "tracegroupgap": 0
        },
        "template": {
         "data": {
          "bar": [
           {
            "error_x": {
             "color": "#2a3f5f"
            },
            "error_y": {
             "color": "#2a3f5f"
            },
            "marker": {
             "line": {
              "color": "#E5ECF6",
              "width": 0.5
             },
             "pattern": {
              "fillmode": "overlay",
              "size": 10,
              "solidity": 0.2
             }
            },
            "type": "bar"
           }
          ],
          "barpolar": [
           {
            "marker": {
             "line": {
              "color": "#E5ECF6",
              "width": 0.5
             },
             "pattern": {
              "fillmode": "overlay",
              "size": 10,
              "solidity": 0.2
             }
            },
            "type": "barpolar"
           }
          ],
          "carpet": [
           {
            "aaxis": {
             "endlinecolor": "#2a3f5f",
             "gridcolor": "white",
             "linecolor": "white",
             "minorgridcolor": "white",
             "startlinecolor": "#2a3f5f"
            },
            "baxis": {
             "endlinecolor": "#2a3f5f",
             "gridcolor": "white",
             "linecolor": "white",
             "minorgridcolor": "white",
             "startlinecolor": "#2a3f5f"
            },
            "type": "carpet"
           }
          ],
          "choropleth": [
           {
            "colorbar": {
             "outlinewidth": 0,
             "ticks": ""
            },
            "type": "choropleth"
           }
          ],
          "contour": [
           {
            "colorbar": {
             "outlinewidth": 0,
             "ticks": ""
            },
            "colorscale": [
             [
              0,
              "#0d0887"
             ],
             [
              0.1111111111111111,
              "#46039f"
             ],
             [
              0.2222222222222222,
              "#7201a8"
             ],
             [
              0.3333333333333333,
              "#9c179e"
             ],
             [
              0.4444444444444444,
              "#bd3786"
             ],
             [
              0.5555555555555556,
              "#d8576b"
             ],
             [
              0.6666666666666666,
              "#ed7953"
             ],
             [
              0.7777777777777778,
              "#fb9f3a"
             ],
             [
              0.8888888888888888,
              "#fdca26"
             ],
             [
              1,
              "#f0f921"
             ]
            ],
            "type": "contour"
           }
          ],
          "contourcarpet": [
           {
            "colorbar": {
             "outlinewidth": 0,
             "ticks": ""
            },
            "type": "contourcarpet"
           }
          ],
          "heatmap": [
           {
            "colorbar": {
             "outlinewidth": 0,
             "ticks": ""
            },
            "colorscale": [
             [
              0,
              "#0d0887"
             ],
             [
              0.1111111111111111,
              "#46039f"
             ],
             [
              0.2222222222222222,
              "#7201a8"
             ],
             [
              0.3333333333333333,
              "#9c179e"
             ],
             [
              0.4444444444444444,
              "#bd3786"
             ],
             [
              0.5555555555555556,
              "#d8576b"
             ],
             [
              0.6666666666666666,
              "#ed7953"
             ],
             [
              0.7777777777777778,
              "#fb9f3a"
             ],
             [
              0.8888888888888888,
              "#fdca26"
             ],
             [
              1,
              "#f0f921"
             ]
            ],
            "type": "heatmap"
           }
          ],
          "heatmapgl": [
           {
            "colorbar": {
             "outlinewidth": 0,
             "ticks": ""
            },
            "colorscale": [
             [
              0,
              "#0d0887"
             ],
             [
              0.1111111111111111,
              "#46039f"
             ],
             [
              0.2222222222222222,
              "#7201a8"
             ],
             [
              0.3333333333333333,
              "#9c179e"
             ],
             [
              0.4444444444444444,
              "#bd3786"
             ],
             [
              0.5555555555555556,
              "#d8576b"
             ],
             [
              0.6666666666666666,
              "#ed7953"
             ],
             [
              0.7777777777777778,
              "#fb9f3a"
             ],
             [
              0.8888888888888888,
              "#fdca26"
             ],
             [
              1,
              "#f0f921"
             ]
            ],
            "type": "heatmapgl"
           }
          ],
          "histogram": [
           {
            "marker": {
             "pattern": {
              "fillmode": "overlay",
              "size": 10,
              "solidity": 0.2
             }
            },
            "type": "histogram"
           }
          ],
          "histogram2d": [
           {
            "colorbar": {
             "outlinewidth": 0,
             "ticks": ""
            },
            "colorscale": [
             [
              0,
              "#0d0887"
             ],
             [
              0.1111111111111111,
              "#46039f"
             ],
             [
              0.2222222222222222,
              "#7201a8"
             ],
             [
              0.3333333333333333,
              "#9c179e"
             ],
             [
              0.4444444444444444,
              "#bd3786"
             ],
             [
              0.5555555555555556,
              "#d8576b"
             ],
             [
              0.6666666666666666,
              "#ed7953"
             ],
             [
              0.7777777777777778,
              "#fb9f3a"
             ],
             [
              0.8888888888888888,
              "#fdca26"
             ],
             [
              1,
              "#f0f921"
             ]
            ],
            "type": "histogram2d"
           }
          ],
          "histogram2dcontour": [
           {
            "colorbar": {
             "outlinewidth": 0,
             "ticks": ""
            },
            "colorscale": [
             [
              0,
              "#0d0887"
             ],
             [
              0.1111111111111111,
              "#46039f"
             ],
             [
              0.2222222222222222,
              "#7201a8"
             ],
             [
              0.3333333333333333,
              "#9c179e"
             ],
             [
              0.4444444444444444,
              "#bd3786"
             ],
             [
              0.5555555555555556,
              "#d8576b"
             ],
             [
              0.6666666666666666,
              "#ed7953"
             ],
             [
              0.7777777777777778,
              "#fb9f3a"
             ],
             [
              0.8888888888888888,
              "#fdca26"
             ],
             [
              1,
              "#f0f921"
             ]
            ],
            "type": "histogram2dcontour"
           }
          ],
          "mesh3d": [
           {
            "colorbar": {
             "outlinewidth": 0,
             "ticks": ""
            },
            "type": "mesh3d"
           }
          ],
          "parcoords": [
           {
            "line": {
             "colorbar": {
              "outlinewidth": 0,
              "ticks": ""
             }
            },
            "type": "parcoords"
           }
          ],
          "pie": [
           {
            "automargin": true,
            "type": "pie"
           }
          ],
          "scatter": [
           {
            "fillpattern": {
             "fillmode": "overlay",
             "size": 10,
             "solidity": 0.2
            },
            "type": "scatter"
           }
          ],
          "scatter3d": [
           {
            "line": {
             "colorbar": {
              "outlinewidth": 0,
              "ticks": ""
             }
            },
            "marker": {
             "colorbar": {
              "outlinewidth": 0,
              "ticks": ""
             }
            },
            "type": "scatter3d"
           }
          ],
          "scattercarpet": [
           {
            "marker": {
             "colorbar": {
              "outlinewidth": 0,
              "ticks": ""
             }
            },
            "type": "scattercarpet"
           }
          ],
          "scattergeo": [
           {
            "marker": {
             "colorbar": {
              "outlinewidth": 0,
              "ticks": ""
             }
            },
            "type": "scattergeo"
           }
          ],
          "scattergl": [
           {
            "marker": {
             "colorbar": {
              "outlinewidth": 0,
              "ticks": ""
             }
            },
            "type": "scattergl"
           }
          ],
          "scattermapbox": [
           {
            "marker": {
             "colorbar": {
              "outlinewidth": 0,
              "ticks": ""
             }
            },
            "type": "scattermapbox"
           }
          ],
          "scatterpolar": [
           {
            "marker": {
             "colorbar": {
              "outlinewidth": 0,
              "ticks": ""
             }
            },
            "type": "scatterpolar"
           }
          ],
          "scatterpolargl": [
           {
            "marker": {
             "colorbar": {
              "outlinewidth": 0,
              "ticks": ""
             }
            },
            "type": "scatterpolargl"
           }
          ],
          "scatterternary": [
           {
            "marker": {
             "colorbar": {
              "outlinewidth": 0,
              "ticks": ""
             }
            },
            "type": "scatterternary"
           }
          ],
          "surface": [
           {
            "colorbar": {
             "outlinewidth": 0,
             "ticks": ""
            },
            "colorscale": [
             [
              0,
              "#0d0887"
             ],
             [
              0.1111111111111111,
              "#46039f"
             ],
             [
              0.2222222222222222,
              "#7201a8"
             ],
             [
              0.3333333333333333,
              "#9c179e"
             ],
             [
              0.4444444444444444,
              "#bd3786"
             ],
             [
              0.5555555555555556,
              "#d8576b"
             ],
             [
              0.6666666666666666,
              "#ed7953"
             ],
             [
              0.7777777777777778,
              "#fb9f3a"
             ],
             [
              0.8888888888888888,
              "#fdca26"
             ],
             [
              1,
              "#f0f921"
             ]
            ],
            "type": "surface"
           }
          ],
          "table": [
           {
            "cells": {
             "fill": {
              "color": "#EBF0F8"
             },
             "line": {
              "color": "white"
             }
            },
            "header": {
             "fill": {
              "color": "#C8D4E3"
             },
             "line": {
              "color": "white"
             }
            },
            "type": "table"
           }
          ]
         },
         "layout": {
          "annotationdefaults": {
           "arrowcolor": "#2a3f5f",
           "arrowhead": 0,
           "arrowwidth": 1
          },
          "autotypenumbers": "strict",
          "coloraxis": {
           "colorbar": {
            "outlinewidth": 0,
            "ticks": ""
           }
          },
          "colorscale": {
           "diverging": [
            [
             0,
             "#8e0152"
            ],
            [
             0.1,
             "#c51b7d"
            ],
            [
             0.2,
             "#de77ae"
            ],
            [
             0.3,
             "#f1b6da"
            ],
            [
             0.4,
             "#fde0ef"
            ],
            [
             0.5,
             "#f7f7f7"
            ],
            [
             0.6,
             "#e6f5d0"
            ],
            [
             0.7,
             "#b8e186"
            ],
            [
             0.8,
             "#7fbc41"
            ],
            [
             0.9,
             "#4d9221"
            ],
            [
             1,
             "#276419"
            ]
           ],
           "sequential": [
            [
             0,
             "#0d0887"
            ],
            [
             0.1111111111111111,
             "#46039f"
            ],
            [
             0.2222222222222222,
             "#7201a8"
            ],
            [
             0.3333333333333333,
             "#9c179e"
            ],
            [
             0.4444444444444444,
             "#bd3786"
            ],
            [
             0.5555555555555556,
             "#d8576b"
            ],
            [
             0.6666666666666666,
             "#ed7953"
            ],
            [
             0.7777777777777778,
             "#fb9f3a"
            ],
            [
             0.8888888888888888,
             "#fdca26"
            ],
            [
             1,
             "#f0f921"
            ]
           ],
           "sequentialminus": [
            [
             0,
             "#0d0887"
            ],
            [
             0.1111111111111111,
             "#46039f"
            ],
            [
             0.2222222222222222,
             "#7201a8"
            ],
            [
             0.3333333333333333,
             "#9c179e"
            ],
            [
             0.4444444444444444,
             "#bd3786"
            ],
            [
             0.5555555555555556,
             "#d8576b"
            ],
            [
             0.6666666666666666,
             "#ed7953"
            ],
            [
             0.7777777777777778,
             "#fb9f3a"
            ],
            [
             0.8888888888888888,
             "#fdca26"
            ],
            [
             1,
             "#f0f921"
            ]
           ]
          },
          "colorway": [
           "#636efa",
           "#EF553B",
           "#00cc96",
           "#ab63fa",
           "#FFA15A",
           "#19d3f3",
           "#FF6692",
           "#B6E880",
           "#FF97FF",
           "#FECB52"
          ],
          "font": {
           "color": "#2a3f5f"
          },
          "geo": {
           "bgcolor": "white",
           "lakecolor": "white",
           "landcolor": "#E5ECF6",
           "showlakes": true,
           "showland": true,
           "subunitcolor": "white"
          },
          "hoverlabel": {
           "align": "left"
          },
          "hovermode": "closest",
          "mapbox": {
           "style": "light"
          },
          "paper_bgcolor": "white",
          "plot_bgcolor": "#E5ECF6",
          "polar": {
           "angularaxis": {
            "gridcolor": "white",
            "linecolor": "white",
            "ticks": ""
           },
           "bgcolor": "#E5ECF6",
           "radialaxis": {
            "gridcolor": "white",
            "linecolor": "white",
            "ticks": ""
           }
          },
          "scene": {
           "xaxis": {
            "backgroundcolor": "#E5ECF6",
            "gridcolor": "white",
            "gridwidth": 2,
            "linecolor": "white",
            "showbackground": true,
            "ticks": "",
            "zerolinecolor": "white"
           },
           "yaxis": {
            "backgroundcolor": "#E5ECF6",
            "gridcolor": "white",
            "gridwidth": 2,
            "linecolor": "white",
            "showbackground": true,
            "ticks": "",
            "zerolinecolor": "white"
           },
           "zaxis": {
            "backgroundcolor": "#E5ECF6",
            "gridcolor": "white",
            "gridwidth": 2,
            "linecolor": "white",
            "showbackground": true,
            "ticks": "",
            "zerolinecolor": "white"
           }
          },
          "shapedefaults": {
           "line": {
            "color": "#2a3f5f"
           }
          },
          "ternary": {
           "aaxis": {
            "gridcolor": "white",
            "linecolor": "white",
            "ticks": ""
           },
           "baxis": {
            "gridcolor": "white",
            "linecolor": "white",
            "ticks": ""
           },
           "bgcolor": "#E5ECF6",
           "caxis": {
            "gridcolor": "white",
            "linecolor": "white",
            "ticks": ""
           }
          },
          "title": {
           "x": 0.05
          },
          "xaxis": {
           "automargin": true,
           "gridcolor": "white",
           "linecolor": "white",
           "ticks": "",
           "title": {
            "standoff": 15
           },
           "zerolinecolor": "white",
           "zerolinewidth": 2
          },
          "yaxis": {
           "automargin": true,
           "gridcolor": "white",
           "linecolor": "white",
           "ticks": "",
           "title": {
            "standoff": 15
           },
           "zerolinecolor": "white",
           "zerolinewidth": 2
          }
         }
        },
        "title": {
         "text": "Top 20 sports category in terms of number of participants :"
        },
        "xaxis": {
         "anchor": "y",
         "domain": [
          0,
          1
         ],
         "title": {
          "text": "index"
         }
        },
        "yaxis": {
         "anchor": "x",
         "domain": [
          0,
          1
         ],
         "title": {
          "text": "value"
         }
        }
       }
      }
     },
     "metadata": {},
     "output_type": "display_data"
    }
   ],
   "source": [
    "s = df.sports.value_counts()\n",
    "px.bar(s[:20], color=s.index[:20], title='Top 20 sports category in terms of number of participants :')\n"
   ]
  },
  {
   "cell_type": "markdown",
   "metadata": {},
   "source": [
    "- most number of participants have taken part in athletics \n",
    "- followed by rowing, swimming, football and so on"
   ]
  },
  {
   "cell_type": "code",
   "execution_count": null,
   "metadata": {},
   "outputs": [
    {
     "data": {
      "application/vnd.plotly.v1+json": {
       "config": {
        "plotlyServerURL": "https://plot.ly"
       },
       "data": [
        {
         "alignmentgroup": "True",
         "hovertemplate": "index=%{x}<br>value=%{y}<extra></extra>",
         "legendgroup": "2008",
         "marker": {
          "color": "#636efa",
          "pattern": {
           "shape": ""
          }
         },
         "name": "2008",
         "offsetgroup": "2008",
         "orientation": "v",
         "showlegend": true,
         "textposition": "auto",
         "type": "bar",
         "x": [
          2008
         ],
         "xaxis": "x",
         "y": [
          1872
         ],
         "yaxis": "y"
        },
        {
         "alignmentgroup": "True",
         "hovertemplate": "index=%{x}<br>value=%{y}<extra></extra>",
         "legendgroup": "2000",
         "marker": {
          "color": "#EF553B",
          "pattern": {
           "shape": ""
          }
         },
         "name": "2000",
         "offsetgroup": "2000",
         "orientation": "v",
         "showlegend": true,
         "textposition": "auto",
         "type": "bar",
         "x": [
          2000
         ],
         "xaxis": "x",
         "y": [
          1840
         ],
         "yaxis": "y"
        },
        {
         "alignmentgroup": "True",
         "hovertemplate": "index=%{x}<br>value=%{y}<extra></extra>",
         "legendgroup": "2004",
         "marker": {
          "color": "#00cc96",
          "pattern": {
           "shape": ""
          }
         },
         "name": "2004",
         "offsetgroup": "2004",
         "orientation": "v",
         "showlegend": true,
         "textposition": "auto",
         "type": "bar",
         "x": [
          2004
         ],
         "xaxis": "x",
         "y": [
          1839
         ],
         "yaxis": "y"
        },
        {
         "alignmentgroup": "True",
         "hovertemplate": "index=%{x}<br>value=%{y}<extra></extra>",
         "legendgroup": "2012",
         "marker": {
          "color": "#ab63fa",
          "pattern": {
           "shape": ""
          }
         },
         "name": "2012",
         "offsetgroup": "2012",
         "orientation": "v",
         "showlegend": true,
         "textposition": "auto",
         "type": "bar",
         "x": [
          2012
         ],
         "xaxis": "x",
         "y": [
          1771
         ],
         "yaxis": "y"
        },
        {
         "alignmentgroup": "True",
         "hovertemplate": "index=%{x}<br>value=%{y}<extra></extra>",
         "legendgroup": "2006",
         "marker": {
          "color": "#FFA15A",
          "pattern": {
           "shape": ""
          }
         },
         "name": "2006",
         "offsetgroup": "2006",
         "orientation": "v",
         "showlegend": true,
         "textposition": "auto",
         "type": "bar",
         "x": [
          2006
         ],
         "xaxis": "x",
         "y": [
          443
         ],
         "yaxis": "y"
        },
        {
         "alignmentgroup": "True",
         "hovertemplate": "index=%{x}<br>value=%{y}<extra></extra>",
         "legendgroup": "2010",
         "marker": {
          "color": "#19d3f3",
          "pattern": {
           "shape": ""
          }
         },
         "name": "2010",
         "offsetgroup": "2010",
         "orientation": "v",
         "showlegend": true,
         "textposition": "auto",
         "type": "bar",
         "x": [
          2010
         ],
         "xaxis": "x",
         "y": [
          441
         ],
         "yaxis": "y"
        },
        {
         "alignmentgroup": "True",
         "hovertemplate": "index=%{x}<br>value=%{y}<extra></extra>",
         "legendgroup": "2002",
         "marker": {
          "color": "#FF6692",
          "pattern": {
           "shape": ""
          }
         },
         "name": "2002",
         "offsetgroup": "2002",
         "orientation": "v",
         "showlegend": true,
         "textposition": "auto",
         "type": "bar",
         "x": [
          2002
         ],
         "xaxis": "x",
         "y": [
          407
         ],
         "yaxis": "y"
        }
       ],
       "layout": {
        "barmode": "relative",
        "legend": {
         "title": {
          "text": "index"
         },
         "tracegroupgap": 0
        },
        "template": {
         "data": {
          "bar": [
           {
            "error_x": {
             "color": "#2a3f5f"
            },
            "error_y": {
             "color": "#2a3f5f"
            },
            "marker": {
             "line": {
              "color": "#E5ECF6",
              "width": 0.5
             },
             "pattern": {
              "fillmode": "overlay",
              "size": 10,
              "solidity": 0.2
             }
            },
            "type": "bar"
           }
          ],
          "barpolar": [
           {
            "marker": {
             "line": {
              "color": "#E5ECF6",
              "width": 0.5
             },
             "pattern": {
              "fillmode": "overlay",
              "size": 10,
              "solidity": 0.2
             }
            },
            "type": "barpolar"
           }
          ],
          "carpet": [
           {
            "aaxis": {
             "endlinecolor": "#2a3f5f",
             "gridcolor": "white",
             "linecolor": "white",
             "minorgridcolor": "white",
             "startlinecolor": "#2a3f5f"
            },
            "baxis": {
             "endlinecolor": "#2a3f5f",
             "gridcolor": "white",
             "linecolor": "white",
             "minorgridcolor": "white",
             "startlinecolor": "#2a3f5f"
            },
            "type": "carpet"
           }
          ],
          "choropleth": [
           {
            "colorbar": {
             "outlinewidth": 0,
             "ticks": ""
            },
            "type": "choropleth"
           }
          ],
          "contour": [
           {
            "colorbar": {
             "outlinewidth": 0,
             "ticks": ""
            },
            "colorscale": [
             [
              0,
              "#0d0887"
             ],
             [
              0.1111111111111111,
              "#46039f"
             ],
             [
              0.2222222222222222,
              "#7201a8"
             ],
             [
              0.3333333333333333,
              "#9c179e"
             ],
             [
              0.4444444444444444,
              "#bd3786"
             ],
             [
              0.5555555555555556,
              "#d8576b"
             ],
             [
              0.6666666666666666,
              "#ed7953"
             ],
             [
              0.7777777777777778,
              "#fb9f3a"
             ],
             [
              0.8888888888888888,
              "#fdca26"
             ],
             [
              1,
              "#f0f921"
             ]
            ],
            "type": "contour"
           }
          ],
          "contourcarpet": [
           {
            "colorbar": {
             "outlinewidth": 0,
             "ticks": ""
            },
            "type": "contourcarpet"
           }
          ],
          "heatmap": [
           {
            "colorbar": {
             "outlinewidth": 0,
             "ticks": ""
            },
            "colorscale": [
             [
              0,
              "#0d0887"
             ],
             [
              0.1111111111111111,
              "#46039f"
             ],
             [
              0.2222222222222222,
              "#7201a8"
             ],
             [
              0.3333333333333333,
              "#9c179e"
             ],
             [
              0.4444444444444444,
              "#bd3786"
             ],
             [
              0.5555555555555556,
              "#d8576b"
             ],
             [
              0.6666666666666666,
              "#ed7953"
             ],
             [
              0.7777777777777778,
              "#fb9f3a"
             ],
             [
              0.8888888888888888,
              "#fdca26"
             ],
             [
              1,
              "#f0f921"
             ]
            ],
            "type": "heatmap"
           }
          ],
          "heatmapgl": [
           {
            "colorbar": {
             "outlinewidth": 0,
             "ticks": ""
            },
            "colorscale": [
             [
              0,
              "#0d0887"
             ],
             [
              0.1111111111111111,
              "#46039f"
             ],
             [
              0.2222222222222222,
              "#7201a8"
             ],
             [
              0.3333333333333333,
              "#9c179e"
             ],
             [
              0.4444444444444444,
              "#bd3786"
             ],
             [
              0.5555555555555556,
              "#d8576b"
             ],
             [
              0.6666666666666666,
              "#ed7953"
             ],
             [
              0.7777777777777778,
              "#fb9f3a"
             ],
             [
              0.8888888888888888,
              "#fdca26"
             ],
             [
              1,
              "#f0f921"
             ]
            ],
            "type": "heatmapgl"
           }
          ],
          "histogram": [
           {
            "marker": {
             "pattern": {
              "fillmode": "overlay",
              "size": 10,
              "solidity": 0.2
             }
            },
            "type": "histogram"
           }
          ],
          "histogram2d": [
           {
            "colorbar": {
             "outlinewidth": 0,
             "ticks": ""
            },
            "colorscale": [
             [
              0,
              "#0d0887"
             ],
             [
              0.1111111111111111,
              "#46039f"
             ],
             [
              0.2222222222222222,
              "#7201a8"
             ],
             [
              0.3333333333333333,
              "#9c179e"
             ],
             [
              0.4444444444444444,
              "#bd3786"
             ],
             [
              0.5555555555555556,
              "#d8576b"
             ],
             [
              0.6666666666666666,
              "#ed7953"
             ],
             [
              0.7777777777777778,
              "#fb9f3a"
             ],
             [
              0.8888888888888888,
              "#fdca26"
             ],
             [
              1,
              "#f0f921"
             ]
            ],
            "type": "histogram2d"
           }
          ],
          "histogram2dcontour": [
           {
            "colorbar": {
             "outlinewidth": 0,
             "ticks": ""
            },
            "colorscale": [
             [
              0,
              "#0d0887"
             ],
             [
              0.1111111111111111,
              "#46039f"
             ],
             [
              0.2222222222222222,
              "#7201a8"
             ],
             [
              0.3333333333333333,
              "#9c179e"
             ],
             [
              0.4444444444444444,
              "#bd3786"
             ],
             [
              0.5555555555555556,
              "#d8576b"
             ],
             [
              0.6666666666666666,
              "#ed7953"
             ],
             [
              0.7777777777777778,
              "#fb9f3a"
             ],
             [
              0.8888888888888888,
              "#fdca26"
             ],
             [
              1,
              "#f0f921"
             ]
            ],
            "type": "histogram2dcontour"
           }
          ],
          "mesh3d": [
           {
            "colorbar": {
             "outlinewidth": 0,
             "ticks": ""
            },
            "type": "mesh3d"
           }
          ],
          "parcoords": [
           {
            "line": {
             "colorbar": {
              "outlinewidth": 0,
              "ticks": ""
             }
            },
            "type": "parcoords"
           }
          ],
          "pie": [
           {
            "automargin": true,
            "type": "pie"
           }
          ],
          "scatter": [
           {
            "fillpattern": {
             "fillmode": "overlay",
             "size": 10,
             "solidity": 0.2
            },
            "type": "scatter"
           }
          ],
          "scatter3d": [
           {
            "line": {
             "colorbar": {
              "outlinewidth": 0,
              "ticks": ""
             }
            },
            "marker": {
             "colorbar": {
              "outlinewidth": 0,
              "ticks": ""
             }
            },
            "type": "scatter3d"
           }
          ],
          "scattercarpet": [
           {
            "marker": {
             "colorbar": {
              "outlinewidth": 0,
              "ticks": ""
             }
            },
            "type": "scattercarpet"
           }
          ],
          "scattergeo": [
           {
            "marker": {
             "colorbar": {
              "outlinewidth": 0,
              "ticks": ""
             }
            },
            "type": "scattergeo"
           }
          ],
          "scattergl": [
           {
            "marker": {
             "colorbar": {
              "outlinewidth": 0,
              "ticks": ""
             }
            },
            "type": "scattergl"
           }
          ],
          "scattermapbox": [
           {
            "marker": {
             "colorbar": {
              "outlinewidth": 0,
              "ticks": ""
             }
            },
            "type": "scattermapbox"
           }
          ],
          "scatterpolar": [
           {
            "marker": {
             "colorbar": {
              "outlinewidth": 0,
              "ticks": ""
             }
            },
            "type": "scatterpolar"
           }
          ],
          "scatterpolargl": [
           {
            "marker": {
             "colorbar": {
              "outlinewidth": 0,
              "ticks": ""
             }
            },
            "type": "scatterpolargl"
           }
          ],
          "scatterternary": [
           {
            "marker": {
             "colorbar": {
              "outlinewidth": 0,
              "ticks": ""
             }
            },
            "type": "scatterternary"
           }
          ],
          "surface": [
           {
            "colorbar": {
             "outlinewidth": 0,
             "ticks": ""
            },
            "colorscale": [
             [
              0,
              "#0d0887"
             ],
             [
              0.1111111111111111,
              "#46039f"
             ],
             [
              0.2222222222222222,
              "#7201a8"
             ],
             [
              0.3333333333333333,
              "#9c179e"
             ],
             [
              0.4444444444444444,
              "#bd3786"
             ],
             [
              0.5555555555555556,
              "#d8576b"
             ],
             [
              0.6666666666666666,
              "#ed7953"
             ],
             [
              0.7777777777777778,
              "#fb9f3a"
             ],
             [
              0.8888888888888888,
              "#fdca26"
             ],
             [
              1,
              "#f0f921"
             ]
            ],
            "type": "surface"
           }
          ],
          "table": [
           {
            "cells": {
             "fill": {
              "color": "#EBF0F8"
             },
             "line": {
              "color": "white"
             }
            },
            "header": {
             "fill": {
              "color": "#C8D4E3"
             },
             "line": {
              "color": "white"
             }
            },
            "type": "table"
           }
          ]
         },
         "layout": {
          "annotationdefaults": {
           "arrowcolor": "#2a3f5f",
           "arrowhead": 0,
           "arrowwidth": 1
          },
          "autotypenumbers": "strict",
          "coloraxis": {
           "colorbar": {
            "outlinewidth": 0,
            "ticks": ""
           }
          },
          "colorscale": {
           "diverging": [
            [
             0,
             "#8e0152"
            ],
            [
             0.1,
             "#c51b7d"
            ],
            [
             0.2,
             "#de77ae"
            ],
            [
             0.3,
             "#f1b6da"
            ],
            [
             0.4,
             "#fde0ef"
            ],
            [
             0.5,
             "#f7f7f7"
            ],
            [
             0.6,
             "#e6f5d0"
            ],
            [
             0.7,
             "#b8e186"
            ],
            [
             0.8,
             "#7fbc41"
            ],
            [
             0.9,
             "#4d9221"
            ],
            [
             1,
             "#276419"
            ]
           ],
           "sequential": [
            [
             0,
             "#0d0887"
            ],
            [
             0.1111111111111111,
             "#46039f"
            ],
            [
             0.2222222222222222,
             "#7201a8"
            ],
            [
             0.3333333333333333,
             "#9c179e"
            ],
            [
             0.4444444444444444,
             "#bd3786"
            ],
            [
             0.5555555555555556,
             "#d8576b"
            ],
            [
             0.6666666666666666,
             "#ed7953"
            ],
            [
             0.7777777777777778,
             "#fb9f3a"
            ],
            [
             0.8888888888888888,
             "#fdca26"
            ],
            [
             1,
             "#f0f921"
            ]
           ],
           "sequentialminus": [
            [
             0,
             "#0d0887"
            ],
            [
             0.1111111111111111,
             "#46039f"
            ],
            [
             0.2222222222222222,
             "#7201a8"
            ],
            [
             0.3333333333333333,
             "#9c179e"
            ],
            [
             0.4444444444444444,
             "#bd3786"
            ],
            [
             0.5555555555555556,
             "#d8576b"
            ],
            [
             0.6666666666666666,
             "#ed7953"
            ],
            [
             0.7777777777777778,
             "#fb9f3a"
            ],
            [
             0.8888888888888888,
             "#fdca26"
            ],
            [
             1,
             "#f0f921"
            ]
           ]
          },
          "colorway": [
           "#636efa",
           "#EF553B",
           "#00cc96",
           "#ab63fa",
           "#FFA15A",
           "#19d3f3",
           "#FF6692",
           "#B6E880",
           "#FF97FF",
           "#FECB52"
          ],
          "font": {
           "color": "#2a3f5f"
          },
          "geo": {
           "bgcolor": "white",
           "lakecolor": "white",
           "landcolor": "#E5ECF6",
           "showlakes": true,
           "showland": true,
           "subunitcolor": "white"
          },
          "hoverlabel": {
           "align": "left"
          },
          "hovermode": "closest",
          "mapbox": {
           "style": "light"
          },
          "paper_bgcolor": "white",
          "plot_bgcolor": "#E5ECF6",
          "polar": {
           "angularaxis": {
            "gridcolor": "white",
            "linecolor": "white",
            "ticks": ""
           },
           "bgcolor": "#E5ECF6",
           "radialaxis": {
            "gridcolor": "white",
            "linecolor": "white",
            "ticks": ""
           }
          },
          "scene": {
           "xaxis": {
            "backgroundcolor": "#E5ECF6",
            "gridcolor": "white",
            "gridwidth": 2,
            "linecolor": "white",
            "showbackground": true,
            "ticks": "",
            "zerolinecolor": "white"
           },
           "yaxis": {
            "backgroundcolor": "#E5ECF6",
            "gridcolor": "white",
            "gridwidth": 2,
            "linecolor": "white",
            "showbackground": true,
            "ticks": "",
            "zerolinecolor": "white"
           },
           "zaxis": {
            "backgroundcolor": "#E5ECF6",
            "gridcolor": "white",
            "gridwidth": 2,
            "linecolor": "white",
            "showbackground": true,
            "ticks": "",
            "zerolinecolor": "white"
           }
          },
          "shapedefaults": {
           "line": {
            "color": "#2a3f5f"
           }
          },
          "ternary": {
           "aaxis": {
            "gridcolor": "white",
            "linecolor": "white",
            "ticks": ""
           },
           "baxis": {
            "gridcolor": "white",
            "linecolor": "white",
            "ticks": ""
           },
           "bgcolor": "#E5ECF6",
           "caxis": {
            "gridcolor": "white",
            "linecolor": "white",
            "ticks": ""
           }
          },
          "title": {
           "x": 0.05
          },
          "xaxis": {
           "automargin": true,
           "gridcolor": "white",
           "linecolor": "white",
           "ticks": "",
           "title": {
            "standoff": 15
           },
           "zerolinecolor": "white",
           "zerolinewidth": 2
          },
          "yaxis": {
           "automargin": true,
           "gridcolor": "white",
           "linecolor": "white",
           "ticks": "",
           "title": {
            "standoff": 15
           },
           "zerolinecolor": "white",
           "zerolinewidth": 2
          }
         }
        },
        "title": {
         "text": "Total number of participants in particular year :"
        },
        "xaxis": {
         "anchor": "y",
         "categoryarray": [
          2008,
          2000,
          2004,
          2012,
          2006,
          2010,
          2002
         ],
         "categoryorder": "array",
         "domain": [
          0,
          1
         ],
         "title": {
          "text": "index"
         }
        },
        "yaxis": {
         "anchor": "x",
         "domain": [
          0,
          1
         ],
         "title": {
          "text": "value"
         }
        }
       }
      }
     },
     "metadata": {},
     "output_type": "display_data"
    }
   ],
   "source": [
    "y = df.year.value_counts()\n",
    "px.bar(y, color=y.index, title='Total number of participants in particular year :')"
   ]
  },
  {
   "cell_type": "markdown",
   "metadata": {},
   "source": [
    "- as you can see year 2008 has the highest number of participants of 1872\n",
    "- after that year 2000 and 2004 has almost same number of participants 1840 and 1839\n",
    "- followed by year 2012 with 1771"
   ]
  },
  {
   "cell_type": "markdown",
   "metadata": {},
   "source": [
    "## **Age Column Skewness**"
   ]
  },
  {
   "cell_type": "code",
   "execution_count": null,
   "metadata": {},
   "outputs": [],
   "source": [
    "def histplot(df, variable): # creating function for histogram that take data frame and variable \n",
    "    plt.figure(figsize=(10,6)) # figure size\n",
    "    plt.title(f'Distribution of {variable}', fontsize = 15) # figure title\n",
    "    sns.histplot(data=df, x=variable, bins = 20, kde= True, color='green') # config of histogram plot\n",
    "    plt.axvline(df[variable].mean(), color = 'red', alpha = 0.5, label = 'Mean', linestyle ='--') # plotting mean line\n",
    "    plt.axvline(df[variable].median(), color = 'blue', alpha = 0.5, label = 'Median', linestyle ='--') # plotting median line\n",
    "    plt.xlabel(f'{variable}', fontsize = 12) # setting x label\n",
    "    plt.ylabel('Count', fontsize = 12) # setting y label\n",
    "    plt.legend() # setting legend in plot\n",
    "    plt.show() # viewing graph\n",
    "    print()\n",
    "    print(f'{variable} Skewness :',round(df[variable].skew(),2)) # variable skewness\n",
    "    print(f'{variable} Mean     :',round(df[variable].mean(),2)) # variable mean\n",
    "    print(f'{variable} Median   :',round(df[variable].median(),2)) # variable median\n",
    "    "
   ]
  },
  {
   "cell_type": "code",
   "execution_count": null,
   "metadata": {},
   "outputs": [
    {
     "data": {
      "image/png": "[encoded data removed]",
      "text/plain": [
       "<Figure size 720x432 with 1 Axes>"
      ]
     },
     "metadata": {},
     "output_type": "display_data"
    },
    {
     "name": "stdout",
     "output_type": "stream",
     "text": [
      "\n",
      "age Skewness : 0.86\n",
      "age Mean     : 26.41\n",
      "age Median   : 26.0\n"
     ]
    }
   ],
   "source": [
    "histplot(df,'age') # calling histogram plot for age variable "
   ]
  },
  {
   "cell_type": "markdown",
   "metadata": {},
   "source": [
    "- skewness is 0.86 which lies in moderate skewed\n",
    "- also mean and median are almost identical so we can say that it's nearly symmetrical"
   ]
  },
  {
   "cell_type": "markdown",
   "metadata": {},
   "source": [
    "### 1. Transforming Age variable"
   ]
  },
  {
   "cell_type": "code",
   "execution_count": null,
   "metadata": {},
   "outputs": [],
   "source": [
    "age_log = df.age.transform('log').to_frame() # log transformation on age\n",
    "age_sqrt = df.age.transform('sqrt').to_frame() # square root transformation on age\n",
    "age_cbrt = df.age.transform('cbrt').to_frame() # cube root transformation on age"
   ]
  },
  {
   "cell_type": "code",
   "execution_count": null,
   "metadata": {},
   "outputs": [],
   "source": [
    "def  side_by_side(dataframe): # creating a side by side comparison function\n",
    "    sns.set_style('darkgrid') # setting background color of plot\n",
    "    fig, ax = plt.subplots(nrows = 1, ncols = 2, figsize = (15,6)) # setting two columns of given sizes\n",
    "    sns.histplot(data=df,x='age',bins = 20, kde=True, ax=ax[0], color='r') # config of 1st histogram plot\n",
    "    ax[0].set_xlabel('Age', fontsize=12) # setting x label\n",
    "    ax[0].set_ylabel('Count', fontsize=12) # setting y label\n",
    "    ax[0].set_title('Original Data',fontsize=15) # setting title \n",
    "    ax[0].tick_params(labelsize=12)# setting size of graph fonts \n",
    "\n",
    "\n",
    "    sns.histplot(data=dataframe, x='age',bins = 20, kde=True, ax=ax[1], color='b') # config of 2nd histogram plot\n",
    "    ax[1].set_xlabel('Age', fontsize=12) # setting x label\n",
    "    ax[1].set_ylabel('Count', fontsize=12) # setting y label\n",
    "    ax[1].set_title('Transformed Data',fontsize=15) # setting title \n",
    "    ax[1].tick_params(labelsize=12)# setting size of graph fonts \n",
    "    return plt.show() # viewing plots\n"
   ]
  },
  {
   "cell_type": "markdown",
   "metadata": {},
   "source": [
    " - **Original vs Log Transformed**"
   ]
  },
  {
   "cell_type": "code",
   "execution_count": null,
   "metadata": {},
   "outputs": [
    {
     "data": {
      "image/png": "[encoded data removed]",
      "text/plain": [
       "<Figure size 1080x432 with 2 Axes>"
      ]
     },
     "metadata": {},
     "output_type": "display_data"
    }
   ],
   "source": [
    "side_by_side(age_log) # calling log transformed age"
   ]
  },
  {
   "cell_type": "markdown",
   "metadata": {},
   "source": [
    " - **Original vs Square Root Transformed**"
   ]
  },
  {
   "cell_type": "code",
   "execution_count": null,
   "metadata": {},
   "outputs": [
    {
     "data": {
      "image/png": "[encoded data removed]",
      "text/plain": [
       "<Figure size 1080x432 with 2 Axes>"
      ]
     },
     "metadata": {},
     "output_type": "display_data"
    }
   ],
   "source": [
    "side_by_side(age_sqrt) # calling square root transformed age"
   ]
  },
  {
   "cell_type": "markdown",
   "metadata": {},
   "source": [
    " - **Original vs Cube Root Transformed**"
   ]
  },
  {
   "cell_type": "code",
   "execution_count": null,
   "metadata": {},
   "outputs": [
    {
     "data": {
      "image/png": "[encoded data removed]",
      "text/plain": [
       "<Figure size 1080x432 with 2 Axes>"
      ]
     },
     "metadata": {},
     "output_type": "display_data"
    }
   ],
   "source": [
    "side_by_side(age_cbrt) # calling cube root transformed age"
   ]
  },
  {
   "cell_type": "code",
   "execution_count": null,
   "metadata": {},
   "outputs": [
    {
     "name": "stdout",
     "output_type": "stream",
     "text": [
      "Original Age                : 0.86\n",
      "Log Transformed Age         : 0.15\n",
      "Square Root Transformed Age : 0.49\n",
      "Cube Root Transformed Age   : 0.38\n"
     ]
    }
   ],
   "source": [
    "print('Original Age                :',round(df.age.skew(),2))\n",
    "print('Log Transformed Age         :',round(age_log.age.skew(),2))\n",
    "print('Square Root Transformed Age :',round(age_sqrt.age.skew(),2))\n",
    "print('Cube Root Transformed Age   :',round(age_cbrt.age.skew(),2))"
   ]
  },
  {
   "cell_type": "markdown",
   "metadata": {},
   "source": [
    "- as shown we can see that log transformation has done a better job in making the data more symmetric\n",
    "- previous it was 0.86 skewness which was moderate skewed\n",
    "- now it got changed to 0.15 skewness using log transformation which means it's now symmetric"
   ]
  },
  {
   "cell_type": "markdown",
   "metadata": {},
   "source": [
    "### 2.  Removing outliers then checking skewness"
   ]
  },
  {
   "cell_type": "markdown",
   "metadata": {},
   "source": [
    "**checking for outliers**"
   ]
  },
  {
   "cell_type": "code",
   "execution_count": null,
   "metadata": {},
   "outputs": [
    {
     "data": {
      "image/png": "[encoded data removed]",
      "text/plain": [
       "<Figure size 720x432 with 1 Axes>"
      ]
     },
     "metadata": {},
     "output_type": "display_data"
    }
   ],
   "source": [
    "plt.figure(figsize=(10,6)) # setting plot size\n",
    "sns.boxplot(x=df.age) # configuring box plot\n",
    "plt.xlabel('Age', fontsize=12) # giving x label and it's size\n",
    "plt.show() # viewing plot"
   ]
  },
  {
   "cell_type": "code",
   "execution_count": null,
   "metadata": {},
   "outputs": [
    {
     "name": "stdout",
     "output_type": "stream",
     "text": [
      "Upper whisker  :  38.0\n",
      "Lower Whisker  :  14.0\n",
      "Outliers in Age:  2.23 %\n",
      "\n",
      "Outliers data in dataset\n"
     ]
    },
    {
     "data": {
      "text/html": [
       "<div>\n",
       "<style scoped>\n",
       "    .dataframe tbody tr th:only-of-type {\n",
       "        vertical-align: middle;\n",
       "    }\n",
       "\n",
       "    .dataframe tbody tr th {\n",
       "        vertical-align: top;\n",
       "    }\n",
       "\n",
       "    .dataframe thead th {\n",
       "        text-align: right;\n",
       "    }\n",
       "</style>\n",
       "<table border=\"1\" class=\"dataframe\">\n",
       "  <thead>\n",
       "    <tr style=\"text-align: right;\">\n",
       "      <th></th>\n",
       "      <th>name</th>\n",
       "      <th>age</th>\n",
       "      <th>country</th>\n",
       "      <th>year</th>\n",
       "      <th>Date_Given</th>\n",
       "      <th>sports</th>\n",
       "      <th>gold_medal</th>\n",
       "      <th>silver_medal</th>\n",
       "      <th>brone_medal</th>\n",
       "      <th>total_medal</th>\n",
       "    </tr>\n",
       "  </thead>\n",
       "  <tbody>\n",
       "    <tr>\n",
       "      <th>64</th>\n",
       "      <td>Dara Torres</td>\n",
       "      <td>41.0</td>\n",
       "      <td>United States</td>\n",
       "      <td>2008</td>\n",
       "      <td>2008-08-24</td>\n",
       "      <td>Swimming</td>\n",
       "      <td>0</td>\n",
       "      <td>3</td>\n",
       "      <td>0</td>\n",
       "      <td>3</td>\n",
       "    </tr>\n",
       "    <tr>\n",
       "      <th>438</th>\n",
       "      <td>Heike Kemmer</td>\n",
       "      <td>46.0</td>\n",
       "      <td>Germany</td>\n",
       "      <td>2008</td>\n",
       "      <td>2008-08-24</td>\n",
       "      <td>Equestrian</td>\n",
       "      <td>1</td>\n",
       "      <td>0</td>\n",
       "      <td>1</td>\n",
       "      <td>2</td>\n",
       "    </tr>\n",
       "    <tr>\n",
       "      <th>439</th>\n",
       "      <td>Eric Lamaze</td>\n",
       "      <td>40.0</td>\n",
       "      <td>Canada</td>\n",
       "      <td>2008</td>\n",
       "      <td>2008-08-24</td>\n",
       "      <td>Equestrian</td>\n",
       "      <td>1</td>\n",
       "      <td>1</td>\n",
       "      <td>0</td>\n",
       "      <td>2</td>\n",
       "    </tr>\n",
       "    <tr>\n",
       "      <th>440</th>\n",
       "      <td>Beezie Madden</td>\n",
       "      <td>44.0</td>\n",
       "      <td>United States</td>\n",
       "      <td>2008</td>\n",
       "      <td>2008-08-24</td>\n",
       "      <td>Equestrian</td>\n",
       "      <td>1</td>\n",
       "      <td>0</td>\n",
       "      <td>1</td>\n",
       "      <td>2</td>\n",
       "    </tr>\n",
       "    <tr>\n",
       "      <th>441</th>\n",
       "      <td>Hinrich Romeike</td>\n",
       "      <td>45.0</td>\n",
       "      <td>Germany</td>\n",
       "      <td>2008</td>\n",
       "      <td>2008-08-24</td>\n",
       "      <td>Equestrian</td>\n",
       "      <td>2</td>\n",
       "      <td>0</td>\n",
       "      <td>0</td>\n",
       "      <td>2</td>\n",
       "    </tr>\n",
       "    <tr>\n",
       "      <th>...</th>\n",
       "      <td>...</td>\n",
       "      <td>...</td>\n",
       "      <td>...</td>\n",
       "      <td>...</td>\n",
       "      <td>...</td>\n",
       "      <td>...</td>\n",
       "      <td>...</td>\n",
       "      <td>...</td>\n",
       "      <td>...</td>\n",
       "      <td>...</td>\n",
       "    </tr>\n",
       "    <tr>\n",
       "      <th>8569</th>\n",
       "      <td>Ilario Di Buo</td>\n",
       "      <td>51.0</td>\n",
       "      <td>Italy</td>\n",
       "      <td>2008</td>\n",
       "      <td>2008-08-24</td>\n",
       "      <td>Archery</td>\n",
       "      <td>0</td>\n",
       "      <td>1</td>\n",
       "      <td>0</td>\n",
       "      <td>1</td>\n",
       "    </tr>\n",
       "    <tr>\n",
       "      <th>8598</th>\n",
       "      <td>Hiroshi Yamamoto</td>\n",
       "      <td>41.0</td>\n",
       "      <td>Japan</td>\n",
       "      <td>2004</td>\n",
       "      <td>2004-08-29</td>\n",
       "      <td>Archery</td>\n",
       "      <td>0</td>\n",
       "      <td>1</td>\n",
       "      <td>0</td>\n",
       "      <td>1</td>\n",
       "    </tr>\n",
       "    <tr>\n",
       "      <th>8604</th>\n",
       "      <td>Ilario Di Buo</td>\n",
       "      <td>43.0</td>\n",
       "      <td>Italy</td>\n",
       "      <td>2000</td>\n",
       "      <td>2000-10-01</td>\n",
       "      <td>Archery</td>\n",
       "      <td>0</td>\n",
       "      <td>1</td>\n",
       "      <td>0</td>\n",
       "      <td>1</td>\n",
       "    </tr>\n",
       "    <tr>\n",
       "      <th>8608</th>\n",
       "      <td>Butch Johnson</td>\n",
       "      <td>45.0</td>\n",
       "      <td>United States</td>\n",
       "      <td>2000</td>\n",
       "      <td>2000-10-01</td>\n",
       "      <td>Archery</td>\n",
       "      <td>0</td>\n",
       "      <td>0</td>\n",
       "      <td>1</td>\n",
       "      <td>1</td>\n",
       "    </tr>\n",
       "    <tr>\n",
       "      <th>8610</th>\n",
       "      <td>Barbara Mensing</td>\n",
       "      <td>39.0</td>\n",
       "      <td>Germany</td>\n",
       "      <td>2000</td>\n",
       "      <td>2000-10-01</td>\n",
       "      <td>Archery</td>\n",
       "      <td>0</td>\n",
       "      <td>0</td>\n",
       "      <td>1</td>\n",
       "      <td>1</td>\n",
       "    </tr>\n",
       "  </tbody>\n",
       "</table>\n",
       "<p>192 rows × 10 columns</p>\n",
       "</div>"
      ],
      "text/plain": [
       "                  name   age        country  year Date_Given      sports  \\\n",
       "64         Dara Torres  41.0  United States  2008 2008-08-24    Swimming   \n",
       "438       Heike Kemmer  46.0        Germany  2008 2008-08-24  Equestrian   \n",
       "439        Eric Lamaze  40.0         Canada  2008 2008-08-24  Equestrian   \n",
       "440      Beezie Madden  44.0  United States  2008 2008-08-24  Equestrian   \n",
       "441    Hinrich Romeike  45.0        Germany  2008 2008-08-24  Equestrian   \n",
       "...                ...   ...            ...   ...        ...         ...   \n",
       "8569     Ilario Di Buo  51.0          Italy  2008 2008-08-24     Archery   \n",
       "8598  Hiroshi Yamamoto  41.0          Japan  2004 2004-08-29     Archery   \n",
       "8604     Ilario Di Buo  43.0          Italy  2000 2000-10-01     Archery   \n",
       "8608     Butch Johnson  45.0  United States  2000 2000-10-01     Archery   \n",
       "8610   Barbara Mensing  39.0        Germany  2000 2000-10-01     Archery   \n",
       "\n",
       "      gold_medal  silver_medal  brone_medal  total_medal  \n",
       "64             0             3            0            3  \n",
       "438            1             0            1            2  \n",
       "439            1             1            0            2  \n",
       "440            1             0            1            2  \n",
       "441            2             0            0            2  \n",
       "...          ...           ...          ...          ...  \n",
       "8569           0             1            0            1  \n",
       "8598           0             1            0            1  \n",
       "8604           0             1            0            1  \n",
       "8608           0             0            1            1  \n",
       "8610           0             0            1            1  \n",
       "\n",
       "[192 rows x 10 columns]"
      ]
     },
     "execution_count": 272,
     "metadata": {},
     "output_type": "execute_result"
    }
   ],
   "source": [
    "Q1,Q3 = np.percentile(df['age'],(25,75)) # assigning 25 and 75 percentile\n",
    "IQR = Q3 - Q1 # calculating iqr\n",
    "upper_limit = Q3 + 1.5 * IQR # calculating upper whisker\n",
    "lower_limit = Q1 - 1.5 * IQR # calculating lower whisker\n",
    "out_data = df[(df['age'] < lower_limit) | (df['age'] > upper_limit)] # assigning outliers data\n",
    "print(\"Upper whisker  : \", upper_limit) # printing upper whisker value\n",
    "print(\"Lower Whisker  : \", lower_limit) # printing lower whisker value\n",
    "print('Outliers in Age: ', round(out_data.shape[0]/df.shape[0]*100,2),'%') # printing outliers %\n",
    "print()\n",
    "print('Outliers data in dataset')\n",
    "\n",
    "out_data # calling outliers dataset"
   ]
  },
  {
   "cell_type": "markdown",
   "metadata": {},
   "source": [
    "- less than 3% outliers are there in age variable\n",
    "- we can remove it directly as it is less in count and won't affect the dataset\n"
   ]
  },
  {
   "cell_type": "code",
   "execution_count": null,
   "metadata": {},
   "outputs": [],
   "source": [
    "# creating new variable without any outliers in age \n",
    "new_df = df[(df['age'] > lower_limit) & (df['age'] < upper_limit)] # dataset without outliers"
   ]
  },
  {
   "cell_type": "code",
   "execution_count": null,
   "metadata": {},
   "outputs": [
    {
     "data": {
      "image/png": "[encoded data removed]",
      "text/plain": [
       "<Figure size 720x432 with 1 Axes>"
      ]
     },
     "metadata": {},
     "output_type": "display_data"
    }
   ],
   "source": [
    "plt.figure(figsize=(10,6)) # giving size to plot\n",
    "plt.title('After Removing Outliers', fontsize=15) # giving title and fontsize\n",
    "sns.boxplot(x=new_df.age) # configuring box plot\n",
    "plt.xlabel('Age', fontsize=12) # giving x label\n",
    "plt.show() # viewing our plot"
   ]
  },
  {
   "cell_type": "code",
   "execution_count": null,
   "metadata": {},
   "outputs": [
    {
     "data": {
      "image/png": "[encoded data removed]",
      "text/plain": [
       "<Figure size 720x432 with 1 Axes>"
      ]
     },
     "metadata": {},
     "output_type": "display_data"
    },
    {
     "name": "stdout",
     "output_type": "stream",
     "text": [
      "\n",
      "age Skewness : 0.2\n",
      "age Mean     : 25.96\n",
      "age Median   : 26.0\n"
     ]
    }
   ],
   "source": [
    "histplot(new_df,'age')"
   ]
  },
  {
   "cell_type": "markdown",
   "metadata": {},
   "source": [
    "- after removing outliers our data already got symmetrical skewed\n",
    "- skewness is 0.2 which lies in symmetrical skewed\n",
    "- mean and median is same which also tells us it's symmetrical distribution "
   ]
  },
  {
   "cell_type": "markdown",
   "metadata": {},
   "source": [
    "## Appropriate measures on numerical variables"
   ]
  },
  {
   "cell_type": "markdown",
   "metadata": {},
   "source": [
    "**statistical measures of numerical variables**"
   ]
  },
  {
   "cell_type": "code",
   "execution_count": null,
   "metadata": {},
   "outputs": [
    {
     "data": {
      "text/html": [
       "<div>\n",
       "<style scoped>\n",
       "    .dataframe tbody tr th:only-of-type {\n",
       "        vertical-align: middle;\n",
       "    }\n",
       "\n",
       "    .dataframe tbody tr th {\n",
       "        vertical-align: top;\n",
       "    }\n",
       "\n",
       "    .dataframe thead th {\n",
       "        text-align: right;\n",
       "    }\n",
       "</style>\n",
       "<table border=\"1\" class=\"dataframe\">\n",
       "  <thead>\n",
       "    <tr style=\"text-align: right;\">\n",
       "      <th></th>\n",
       "      <th>age</th>\n",
       "      <th>gold_medal</th>\n",
       "      <th>silver_medal</th>\n",
       "      <th>brone_medal</th>\n",
       "      <th>total_medal</th>\n",
       "    </tr>\n",
       "  </thead>\n",
       "  <tbody>\n",
       "    <tr>\n",
       "      <th>count</th>\n",
       "      <td>8613.000000</td>\n",
       "      <td>8613.000000</td>\n",
       "      <td>8613.000000</td>\n",
       "      <td>8613.000000</td>\n",
       "      <td>8613.000000</td>\n",
       "    </tr>\n",
       "    <tr>\n",
       "      <th>mean</th>\n",
       "      <td>26.405434</td>\n",
       "      <td>0.364914</td>\n",
       "      <td>0.362940</td>\n",
       "      <td>0.377917</td>\n",
       "      <td>1.105770</td>\n",
       "    </tr>\n",
       "    <tr>\n",
       "      <th>std</th>\n",
       "      <td>5.102118</td>\n",
       "      <td>0.545436</td>\n",
       "      <td>0.511531</td>\n",
       "      <td>0.505069</td>\n",
       "      <td>0.409003</td>\n",
       "    </tr>\n",
       "    <tr>\n",
       "      <th>min</th>\n",
       "      <td>15.000000</td>\n",
       "      <td>0.000000</td>\n",
       "      <td>0.000000</td>\n",
       "      <td>0.000000</td>\n",
       "      <td>1.000000</td>\n",
       "    </tr>\n",
       "    <tr>\n",
       "      <th>25%</th>\n",
       "      <td>23.000000</td>\n",
       "      <td>0.000000</td>\n",
       "      <td>0.000000</td>\n",
       "      <td>0.000000</td>\n",
       "      <td>1.000000</td>\n",
       "    </tr>\n",
       "    <tr>\n",
       "      <th>50%</th>\n",
       "      <td>26.000000</td>\n",
       "      <td>0.000000</td>\n",
       "      <td>0.000000</td>\n",
       "      <td>0.000000</td>\n",
       "      <td>1.000000</td>\n",
       "    </tr>\n",
       "    <tr>\n",
       "      <th>75%</th>\n",
       "      <td>29.000000</td>\n",
       "      <td>1.000000</td>\n",
       "      <td>1.000000</td>\n",
       "      <td>1.000000</td>\n",
       "      <td>1.000000</td>\n",
       "    </tr>\n",
       "    <tr>\n",
       "      <th>max</th>\n",
       "      <td>61.000000</td>\n",
       "      <td>8.000000</td>\n",
       "      <td>3.000000</td>\n",
       "      <td>3.000000</td>\n",
       "      <td>8.000000</td>\n",
       "    </tr>\n",
       "  </tbody>\n",
       "</table>\n",
       "</div>"
      ],
      "text/plain": [
       "               age   gold_medal  silver_medal  brone_medal  total_medal\n",
       "count  8613.000000  8613.000000   8613.000000  8613.000000  8613.000000\n",
       "mean     26.405434     0.364914      0.362940     0.377917     1.105770\n",
       "std       5.102118     0.545436      0.511531     0.505069     0.409003\n",
       "min      15.000000     0.000000      0.000000     0.000000     1.000000\n",
       "25%      23.000000     0.000000      0.000000     0.000000     1.000000\n",
       "50%      26.000000     0.000000      0.000000     0.000000     1.000000\n",
       "75%      29.000000     1.000000      1.000000     1.000000     1.000000\n",
       "max      61.000000     8.000000      3.000000     3.000000     8.000000"
      ]
     },
     "execution_count": 276,
     "metadata": {},
     "output_type": "execute_result"
    }
   ],
   "source": [
    "df[num_col].describe() "
   ]
  },
  {
   "cell_type": "markdown",
   "metadata": {},
   "source": [
    "**skewness of numerical variables**"
   ]
  },
  {
   "cell_type": "code",
   "execution_count": null,
   "metadata": {},
   "outputs": [
    {
     "name": "stdout",
     "output_type": "stream",
     "text": [
      "age             0.859007\n",
      "gold_medal      1.638839\n",
      "silver_medal    0.955039\n",
      "brone_medal     0.762090\n",
      "total_medal     5.580939\n",
      "dtype: float64\n"
     ]
    },
    {
     "data": {
      "image/png": "[encoded data removed]",
      "text/plain": [
       "<Figure size 720x432 with 1 Axes>"
      ]
     },
     "metadata": {},
     "output_type": "display_data"
    }
   ],
   "source": [
    "print(df[num_col].skew()) # printing skewness values of all numerical variables\n",
    "# visualizing skewness values in bar plot\n",
    "plt.figure(figsize=(10,6)) # giving plot size\n",
    "df[num_col].skew().plot(kind='bar',color = ['green','gold','silver','#964B00','orange']) # plotting bar graph using skewness\n",
    "plt.tick_params(labelsize=12) # giving font size\n",
    "plt.xticks(rotation=30, horizontalalignment=\"center\") # rotating font\n",
    "plt.show() # viewing graph"
   ]
  },
  {
   "cell_type": "markdown",
   "metadata": {},
   "source": [
    "**outliers in numerical variables**"
   ]
  },
  {
   "cell_type": "code",
   "execution_count": null,
   "metadata": {},
   "outputs": [],
   "source": [
    "def outliers(variable): # creating function for finding outliers\n",
    "    Q1,Q3 = np.percentile(df[variable],(25,75)) # assigning 25 and 75 percentile\n",
    "    IQR = Q3 - Q1 # calculating iqr\n",
    "    upper_limit = Q3 + 1.5 * IQR # calculating upper whisker\n",
    "    lower_limit = Q1 - 1.5 * IQR # calculating lower whisker\n",
    "    out_data = df[(df[variable] < lower_limit) | (df[variable] > upper_limit)] # assigning outliers data\n",
    "    print(f'Outliers in {variable}: ', round(out_data.shape[0]/df.shape[0]*100,2),'%') # printing outliers %\n"
   ]
  },
  {
   "cell_type": "code",
   "execution_count": null,
   "metadata": {},
   "outputs": [
    {
     "name": "stdout",
     "output_type": "stream",
     "text": [
      "Outliers in age:  2.23 %\n",
      "Outliers in gold_medal:  0.34 %\n",
      "Outliers in silver_medal:  0.1 %\n",
      "Outliers in brone_medal:  0.06 %\n",
      "Outliers in total_medal:  8.09 %\n"
     ]
    }
   ],
   "source": [
    "outliers('age') # calling outliers in age\n",
    "outliers('gold_medal') # calling outliers in gold medal\n",
    "outliers('silver_medal') # calling outliers in silver medal\n",
    "outliers('brone_medal') # calling outliers in bronze medal\n",
    "outliers('total_medal') # calling outliers in total medal"
   ]
  },
  {
   "cell_type": "markdown",
   "metadata": {},
   "source": [
    "\n",
    "## Top 10 countries with the gold, silver, bronze medals and then total medals achieved"
   ]
  },
  {
   "cell_type": "code",
   "execution_count": null,
   "metadata": {},
   "outputs": [],
   "source": [
    "def medals(category,colour,title): # creating medal function\n",
    "    category = df.groupby('country')[category].sum().sort_values(ascending=False) # grouping country and sum of medals\n",
    "    plt.figure(figsize=(10,6)) # giving graph size\n",
    "    plots = category.head(10).plot(kind='bar',color=colour) # configuring our graph\n",
    "    for bar in plots.patches: # iterating inside plot data\n",
    "        plots.annotate(format(bar.get_height()), \n",
    "                    (bar.get_x() + bar.get_width() / 2,\n",
    "                        bar.get_height()), ha='center', va='center',\n",
    "                    size=12, xytext=(0, 8),\n",
    "                    textcoords='offset points') # configuring and adding annotation in bar plots\n",
    "    plt.title(f'Top 10 Countries with {title} Medals',fontsize=15) # giving title\n",
    "    plt.xlabel('') # removing x label\n",
    "    plt.tick_params(labelsize=12) # giving size to fonts\n",
    "    plt.xticks(rotation=30, horizontalalignment=\"center\") # rotating fonts\n",
    "    plt.show() # viewing graph"
   ]
  },
  {
   "cell_type": "code",
   "execution_count": null,
   "metadata": {},
   "outputs": [
    {
     "data": {
      "image/png": "[encoded data removed]",
      "text/plain": [
       "<Figure size 720x432 with 1 Axes>"
      ]
     },
     "metadata": {},
     "output_type": "display_data"
    }
   ],
   "source": [
    "medals('gold_medal','gold','Gold') # calling gold_medal with gold colored graph"
   ]
  },
  {
   "cell_type": "code",
   "execution_count": null,
   "metadata": {},
   "outputs": [
    {
     "data": {
      "image/png": "[encoded data removed]",
      "text/plain": [
       "<Figure size 720x432 with 1 Axes>"
      ]
     },
     "metadata": {},
     "output_type": "display_data"
    }
   ],
   "source": [
    "medals('silver_medal','silver','Silver') # calling silver_medal with silver colored graph"
   ]
  },
  {
   "cell_type": "code",
   "execution_count": null,
   "metadata": {},
   "outputs": [
    {
     "data": {
      "image/png": "[encoded data removed]",
      "text/plain": [
       "<Figure size 720x432 with 1 Axes>"
      ]
     },
     "metadata": {},
     "output_type": "display_data"
    }
   ],
   "source": [
    "medals('brone_medal','#964B00','Bronze') # calling bronze_medal with bronze colored graph"
   ]
  },
  {
   "cell_type": "code",
   "execution_count": null,
   "metadata": {},
   "outputs": [
    {
     "data": {
      "image/png": "[encoded data removed]",
      "text/plain": [
       "<Figure size 720x432 with 1 Axes>"
      ]
     },
     "metadata": {},
     "output_type": "display_data"
    }
   ],
   "source": [
    "medals('total_medal','orange','Total') # calling total_medal with orange colored graph"
   ]
  },
  {
   "cell_type": "code",
   "execution_count": null,
   "metadata": {},
   "outputs": [],
   "source": [
    "# this cleaned data will be use on pyspark and MySQL so exporting it\n",
    "# df.to_csv('olympix_data.csv', index=False) # saving the cleaned data "
   ]
  }
 ],
 "metadata": {
  "interpreter": {
   "hash": "9b4d75ac280b6c7c3aa43866cb82dc88915409b55fec83a093dd0284cb58708e"
  },
  "kernelspec": {
   "display_name": "Python 3 (ipykernel)",
   "language": "python",
   "name": "python3"
  },
  "language_info": {
   "codemirror_mode": {
    "name": "ipython",
    "version": 3
   },
   "file_extension": ".py",
   "mimetype": "text/x-python",
   "name": "python",
   "nbconvert_exporter": "python",
   "pygments_lexer": "ipython3",
   "version": "3.10.4"
  }
 },
 "nbformat": 4,
 "nbformat_minor": 2
}
